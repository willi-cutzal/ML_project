{
 "cells": [
  {
   "attachments": {},
   "cell_type": "markdown",
   "metadata": {},
   "source": [
    "<img src=\"https://d31uz8lwfmyn8g.cloudfront.net/Assets/logo-henry-white-lg.png\"\n",
    "    style=\"width:300px; float: right; margin: 0 40px 40px 40px;\"></img>\n",
    "\n",
    "# **Proyecto Individual 2 - Machine Learning**\n",
    "\n",
    "<hr style=\"margin-bottom: 40px;\">\n"
   ]
  },
  {
   "attachments": {},
   "cell_type": "markdown",
   "metadata": {},
   "source": [
    "# `Análisis Exploratorio de Datos`\n",
    "![divider](https://user-images.githubusercontent.com/7065401/52071924-c003ad80-2562-11e9-8297-1c6595f8a7ff.png)"
   ]
  },
  {
   "attachments": {},
   "cell_type": "markdown",
   "metadata": {},
   "source": [
    "- #### **Importamos las librerías a utilizar**"
   ]
  },
  {
   "cell_type": "code",
   "execution_count": 1,
   "metadata": {},
   "outputs": [],
   "source": [
    "import numpy as np\n",
    "import pandas as pd\n",
    "import matplotlib.pyplot as plt\n",
    "import seaborn as sns"
   ]
  },
  {
   "attachments": {},
   "cell_type": "markdown",
   "metadata": {},
   "source": [
    "- #### **Creo mi Dataframe con el que voy a trabajar**"
   ]
  },
  {
   "cell_type": "code",
   "execution_count": 2,
   "metadata": {},
   "outputs": [],
   "source": [
    "data = pd.read_csv('./Datasets/hospitalizaciones_train.csv')"
   ]
  },
  {
   "cell_type": "code",
   "execution_count": 3,
   "metadata": {},
   "outputs": [
    {
     "data": {
      "text/plain": [
       "Available Extra Rooms in Hospital      int64\n",
       "Department                            object\n",
       "Ward_Facility_Code                    object\n",
       "doctor_name                           object\n",
       "staff_available                        int64\n",
       "patientid                              int64\n",
       "Age                                   object\n",
       "gender                                object\n",
       "Type of Admission                     object\n",
       "Severity of Illness                   object\n",
       "health_conditions                     object\n",
       "Visitors with Patient                  int64\n",
       "Insurance                             object\n",
       "Admission_Deposit                    float64\n",
       "Stay (in days)                         int64\n",
       "dtype: object"
      ]
     },
     "execution_count": 3,
     "metadata": {},
     "output_type": "execute_result"
    }
   ],
   "source": [
    "data.dtypes"
   ]
  },
  {
   "cell_type": "code",
   "execution_count": 5,
   "metadata": {},
   "outputs": [
    {
     "name": "stdout",
     "output_type": "stream",
     "text": [
      "cantidad de registros: 410000 y cantidad de columnas: 15\n"
     ]
    }
   ],
   "source": [
    "print(f'cantidad de registros: {data.shape[0]} y cantidad de columnas: {data.shape[1]}')"
   ]
  },
  {
   "attachments": {},
   "cell_type": "markdown",
   "metadata": {},
   "source": [
    "- #### **Normalizo el nombre de las columnas, para un mejor control.**"
   ]
  },
  {
   "cell_type": "code",
   "execution_count": 6,
   "metadata": {},
   "outputs": [],
   "source": [
    "#nuevo nombre de las columnas:\n",
    "\n",
    "New_cols = ['Hab_Disponibles', 'Departamento', 'Codigo_Hab', 'Nombre_Medico', 'Staff_Disponible', 'IdPaciente', 'Rango_Etario', 'Genero', 'Tipo_Ingreso', 'Gravedad_Enfermedad', 'Condicion_Salud', 'Visitantes', 'Seguro', 'Deposito_Ingreso', 'Estadia' ]"
   ]
  },
  {
   "cell_type": "code",
   "execution_count": 7,
   "metadata": {},
   "outputs": [],
   "source": [
    "#Asigno a mi dataframe los nuevos nombres de columna\n",
    "data.columns = New_cols"
   ]
  },
  {
   "cell_type": "code",
   "execution_count": 8,
   "metadata": {},
   "outputs": [
    {
     "data": {
      "text/html": [
       "<div>\n",
       "<style scoped>\n",
       "    .dataframe tbody tr th:only-of-type {\n",
       "        vertical-align: middle;\n",
       "    }\n",
       "\n",
       "    .dataframe tbody tr th {\n",
       "        vertical-align: top;\n",
       "    }\n",
       "\n",
       "    .dataframe thead th {\n",
       "        text-align: right;\n",
       "    }\n",
       "</style>\n",
       "<table border=\"1\" class=\"dataframe\">\n",
       "  <thead>\n",
       "    <tr style=\"text-align: right;\">\n",
       "      <th></th>\n",
       "      <th>Hab_Disponibles</th>\n",
       "      <th>Departamento</th>\n",
       "      <th>Codigo_Hab</th>\n",
       "      <th>Nombre_Medico</th>\n",
       "      <th>Staff_Disponible</th>\n",
       "      <th>IdPaciente</th>\n",
       "      <th>Rango_Etario</th>\n",
       "      <th>Genero</th>\n",
       "      <th>Tipo_Ingreso</th>\n",
       "      <th>Gravedad_Enfermedad</th>\n",
       "      <th>Condicion_Salud</th>\n",
       "      <th>Visitantes</th>\n",
       "      <th>Seguro</th>\n",
       "      <th>Deposito_Ingreso</th>\n",
       "      <th>Estadia</th>\n",
       "    </tr>\n",
       "  </thead>\n",
       "  <tbody>\n",
       "    <tr>\n",
       "      <th>0</th>\n",
       "      <td>4</td>\n",
       "      <td>gynecology</td>\n",
       "      <td>D</td>\n",
       "      <td>Dr Sophia</td>\n",
       "      <td>0</td>\n",
       "      <td>33070</td>\n",
       "      <td>41-50</td>\n",
       "      <td>Female</td>\n",
       "      <td>Trauma</td>\n",
       "      <td>Extreme</td>\n",
       "      <td>Diabetes</td>\n",
       "      <td>4</td>\n",
       "      <td>Yes</td>\n",
       "      <td>2966.408696</td>\n",
       "      <td>8</td>\n",
       "    </tr>\n",
       "    <tr>\n",
       "      <th>1</th>\n",
       "      <td>4</td>\n",
       "      <td>gynecology</td>\n",
       "      <td>B</td>\n",
       "      <td>Dr Sophia</td>\n",
       "      <td>2</td>\n",
       "      <td>34808</td>\n",
       "      <td>31-40</td>\n",
       "      <td>Female</td>\n",
       "      <td>Trauma</td>\n",
       "      <td>Minor</td>\n",
       "      <td>Heart disease</td>\n",
       "      <td>2</td>\n",
       "      <td>No</td>\n",
       "      <td>3554.835677</td>\n",
       "      <td>9</td>\n",
       "    </tr>\n",
       "    <tr>\n",
       "      <th>2</th>\n",
       "      <td>2</td>\n",
       "      <td>gynecology</td>\n",
       "      <td>B</td>\n",
       "      <td>Dr Sophia</td>\n",
       "      <td>8</td>\n",
       "      <td>44577</td>\n",
       "      <td>21-30</td>\n",
       "      <td>Female</td>\n",
       "      <td>Trauma</td>\n",
       "      <td>Extreme</td>\n",
       "      <td>Diabetes</td>\n",
       "      <td>2</td>\n",
       "      <td>Yes</td>\n",
       "      <td>5624.733654</td>\n",
       "      <td>7</td>\n",
       "    </tr>\n",
       "    <tr>\n",
       "      <th>3</th>\n",
       "      <td>4</td>\n",
       "      <td>gynecology</td>\n",
       "      <td>D</td>\n",
       "      <td>Dr Olivia</td>\n",
       "      <td>7</td>\n",
       "      <td>3695</td>\n",
       "      <td>31-40</td>\n",
       "      <td>Female</td>\n",
       "      <td>Urgent</td>\n",
       "      <td>Moderate</td>\n",
       "      <td>None</td>\n",
       "      <td>4</td>\n",
       "      <td>No</td>\n",
       "      <td>4814.149231</td>\n",
       "      <td>8</td>\n",
       "    </tr>\n",
       "    <tr>\n",
       "      <th>4</th>\n",
       "      <td>2</td>\n",
       "      <td>anesthesia</td>\n",
       "      <td>E</td>\n",
       "      <td>Dr Mark</td>\n",
       "      <td>10</td>\n",
       "      <td>108956</td>\n",
       "      <td>71-80</td>\n",
       "      <td>Male</td>\n",
       "      <td>Trauma</td>\n",
       "      <td>Moderate</td>\n",
       "      <td>Diabetes</td>\n",
       "      <td>2</td>\n",
       "      <td>No</td>\n",
       "      <td>5169.269637</td>\n",
       "      <td>34</td>\n",
       "    </tr>\n",
       "  </tbody>\n",
       "</table>\n",
       "</div>"
      ],
      "text/plain": [
       "   Hab_Disponibles Departamento Codigo_Hab Nombre_Medico  Staff_Disponible  \\\n",
       "0                4   gynecology          D     Dr Sophia                 0   \n",
       "1                4   gynecology          B     Dr Sophia                 2   \n",
       "2                2   gynecology          B     Dr Sophia                 8   \n",
       "3                4   gynecology          D     Dr Olivia                 7   \n",
       "4                2   anesthesia          E       Dr Mark                10   \n",
       "\n",
       "   IdPaciente Rango_Etario  Genero Tipo_Ingreso Gravedad_Enfermedad  \\\n",
       "0       33070        41-50  Female       Trauma             Extreme   \n",
       "1       34808        31-40  Female       Trauma               Minor   \n",
       "2       44577        21-30  Female       Trauma             Extreme   \n",
       "3        3695        31-40  Female       Urgent            Moderate   \n",
       "4      108956        71-80    Male       Trauma            Moderate   \n",
       "\n",
       "  Condicion_Salud  Visitantes Seguro  Deposito_Ingreso  Estadia  \n",
       "0        Diabetes           4    Yes       2966.408696        8  \n",
       "1   Heart disease           2     No       3554.835677        9  \n",
       "2        Diabetes           2    Yes       5624.733654        7  \n",
       "3            None           4     No       4814.149231        8  \n",
       "4        Diabetes           2     No       5169.269637       34  "
      ]
     },
     "execution_count": 8,
     "metadata": {},
     "output_type": "execute_result"
    }
   ],
   "source": [
    "data.head()"
   ]
  },
  {
   "attachments": {},
   "cell_type": "markdown",
   "metadata": {},
   "source": [
    "# `Preprocesamiento de Datos`\n",
    "![green-divider](https://user-images.githubusercontent.com/7065401/52071924-c003ad80-2562-11e9-8297-1c6595f8a7ff.png)"
   ]
  },
  {
   "attachments": {},
   "cell_type": "markdown",
   "metadata": {},
   "source": [
    "- #### **Reviso cantidad de registros, cantidad de columnas y si hay valores nulos.**"
   ]
  },
  {
   "cell_type": "code",
   "execution_count": 9,
   "metadata": {},
   "outputs": [
    {
     "name": "stdout",
     "output_type": "stream",
     "text": [
      "<class 'pandas.core.frame.DataFrame'>\n",
      "RangeIndex: 410000 entries, 0 to 409999\n",
      "Data columns (total 15 columns):\n",
      " #   Column               Non-Null Count   Dtype  \n",
      "---  ------               --------------   -----  \n",
      " 0   Hab_Disponibles      410000 non-null  int64  \n",
      " 1   Departamento         410000 non-null  object \n",
      " 2   Codigo_Hab           410000 non-null  object \n",
      " 3   Nombre_Medico        410000 non-null  object \n",
      " 4   Staff_Disponible     410000 non-null  int64  \n",
      " 5   IdPaciente           410000 non-null  int64  \n",
      " 6   Rango_Etario         410000 non-null  object \n",
      " 7   Genero               410000 non-null  object \n",
      " 8   Tipo_Ingreso         410000 non-null  object \n",
      " 9   Gravedad_Enfermedad  410000 non-null  object \n",
      " 10  Condicion_Salud      410000 non-null  object \n",
      " 11  Visitantes           410000 non-null  int64  \n",
      " 12  Seguro               410000 non-null  object \n",
      " 13  Deposito_Ingreso     410000 non-null  float64\n",
      " 14  Estadia              410000 non-null  int64  \n",
      "dtypes: float64(1), int64(5), object(9)\n",
      "memory usage: 46.9+ MB\n"
     ]
    }
   ],
   "source": [
    "data.info()"
   ]
  },
  {
   "attachments": {},
   "cell_type": "markdown",
   "metadata": {},
   "source": [
    "- #### **Verifico si hay duplicados.**"
   ]
  },
  {
   "cell_type": "code",
   "execution_count": 10,
   "metadata": {},
   "outputs": [
    {
     "data": {
      "text/html": [
       "<div>\n",
       "<style scoped>\n",
       "    .dataframe tbody tr th:only-of-type {\n",
       "        vertical-align: middle;\n",
       "    }\n",
       "\n",
       "    .dataframe tbody tr th {\n",
       "        vertical-align: top;\n",
       "    }\n",
       "\n",
       "    .dataframe thead th {\n",
       "        text-align: right;\n",
       "    }\n",
       "</style>\n",
       "<table border=\"1\" class=\"dataframe\">\n",
       "  <thead>\n",
       "    <tr style=\"text-align: right;\">\n",
       "      <th></th>\n",
       "      <th>Hab_Disponibles</th>\n",
       "      <th>Departamento</th>\n",
       "      <th>Codigo_Hab</th>\n",
       "      <th>Nombre_Medico</th>\n",
       "      <th>Staff_Disponible</th>\n",
       "      <th>IdPaciente</th>\n",
       "      <th>Rango_Etario</th>\n",
       "      <th>Genero</th>\n",
       "      <th>Tipo_Ingreso</th>\n",
       "      <th>Gravedad_Enfermedad</th>\n",
       "      <th>Condicion_Salud</th>\n",
       "      <th>Visitantes</th>\n",
       "      <th>Seguro</th>\n",
       "      <th>Deposito_Ingreso</th>\n",
       "      <th>Estadia</th>\n",
       "    </tr>\n",
       "  </thead>\n",
       "  <tbody>\n",
       "  </tbody>\n",
       "</table>\n",
       "</div>"
      ],
      "text/plain": [
       "Empty DataFrame\n",
       "Columns: [Hab_Disponibles, Departamento, Codigo_Hab, Nombre_Medico, Staff_Disponible, IdPaciente, Rango_Etario, Genero, Tipo_Ingreso, Gravedad_Enfermedad, Condicion_Salud, Visitantes, Seguro, Deposito_Ingreso, Estadia]\n",
       "Index: []"
      ]
     },
     "execution_count": 10,
     "metadata": {},
     "output_type": "execute_result"
    }
   ],
   "source": [
    "data[data.duplicated()]"
   ]
  },
  {
   "attachments": {},
   "cell_type": "markdown",
   "metadata": {},
   "source": [
    "- #### **Busco valores nulos.**"
   ]
  },
  {
   "cell_type": "code",
   "execution_count": 11,
   "metadata": {},
   "outputs": [],
   "source": [
    "#guardo en una variable el nombre de las columnas de mi df\n",
    "columnas = data.columns.to_list()"
   ]
  },
  {
   "cell_type": "code",
   "execution_count": 12,
   "metadata": {},
   "outputs": [
    {
     "name": "stdout",
     "output_type": "stream",
     "text": [
      "valores nulos en Hab_Disponibles:  ==========>  0\n",
      "valores nulos en Departamento:  ==========>  0\n",
      "valores nulos en Codigo_Hab:  ==========>  0\n",
      "valores nulos en Nombre_Medico:  ==========>  0\n",
      "valores nulos en Staff_Disponible:  ==========>  0\n",
      "valores nulos en IdPaciente:  ==========>  0\n",
      "valores nulos en Rango_Etario:  ==========>  0\n",
      "valores nulos en Genero:  ==========>  0\n",
      "valores nulos en Tipo_Ingreso:  ==========>  0\n",
      "valores nulos en Gravedad_Enfermedad:  ==========>  0\n",
      "valores nulos en Condicion_Salud:  ==========>  0\n",
      "valores nulos en Visitantes:  ==========>  0\n",
      "valores nulos en Seguro:  ==========>  0\n",
      "valores nulos en Deposito_Ingreso:  ==========>  0\n",
      "valores nulos en Estadia:  ==========>  0\n"
     ]
    }
   ],
   "source": [
    "#Itero sobre mi lista de columnas:\n",
    "for i in columnas:\n",
    "    print(f'valores nulos en {i}:', data[i].isnull().sum(), sep='  ==========>  ')"
   ]
  },
  {
   "cell_type": "code",
   "execution_count": 13,
   "metadata": {},
   "outputs": [
    {
     "name": "stdout",
     "output_type": "stream",
     "text": [
      "valores nulos en Hab_Disponibles  ==========>  0\n",
      "valores nulos en Departamento  ==========>  0\n",
      "valores nulos en Codigo_Hab  ==========>  0\n",
      "valores nulos en Nombre_Medico  ==========>  0\n",
      "valores nulos en Staff_Disponible  ==========>  0\n",
      "valores nulos en IdPaciente  ==========>  0\n",
      "valores nulos en Rango_Etario  ==========>  0\n",
      "valores nulos en Genero  ==========>  0\n",
      "valores nulos en Tipo_Ingreso  ==========>  0\n",
      "valores nulos en Gravedad_Enfermedad  ==========>  0\n",
      "valores nulos en Condicion_Salud  ==========>  0\n",
      "valores nulos en Visitantes  ==========>  0\n",
      "valores nulos en Seguro  ==========>  0\n",
      "valores nulos en Deposito_Ingreso  ==========>  0\n",
      "valores nulos en Estadia  ==========>  0\n"
     ]
    }
   ],
   "source": [
    "for i in columnas:\n",
    "    print(f'valores nulos en {i}', data[i].isna().sum(), sep='  ==========>  ')\n"
   ]
  },
  {
   "cell_type": "code",
   "execution_count": 14,
   "metadata": {},
   "outputs": [
    {
     "data": {
      "image/png": "[encoded data removed]",
      "text/plain": [
       "<Figure size 720x720 with 1 Axes>"
      ]
     },
     "metadata": {
      "needs_background": "light"
     },
     "output_type": "display_data"
    }
   ],
   "source": [
    "plt.figure(figsize=(10, 10))\n",
    "sns.heatmap(data.isnull(), cbar=False)\n",
    "plt.show()\n"
   ]
  },
  {
   "attachments": {},
   "cell_type": "markdown",
   "metadata": {},
   "source": [
    "- #### **Identifico outliers.**"
   ]
  },
  {
   "cell_type": "code",
   "execution_count": 15,
   "metadata": {},
   "outputs": [
    {
     "data": {
      "image/png": "[encoded data removed]",
      "text/plain": [
       "<Figure size 432x288 with 1 Axes>"
      ]
     },
     "metadata": {
      "needs_background": "light"
     },
     "output_type": "display_data"
    }
   ],
   "source": [
    "sns.boxplot(x='Hab_Disponibles', data=data);"
   ]
  },
  {
   "cell_type": "code",
   "execution_count": 16,
   "metadata": {},
   "outputs": [
    {
     "data": {
      "image/png": "[encoded data removed]",
      "text/plain": [
       "<Figure size 432x288 with 1 Axes>"
      ]
     },
     "metadata": {
      "needs_background": "light"
     },
     "output_type": "display_data"
    }
   ],
   "source": [
    "sns.boxplot(x='Staff_Disponible', data=data);"
   ]
  },
  {
   "cell_type": "code",
   "execution_count": 17,
   "metadata": {},
   "outputs": [
    {
     "data": {
      "image/png": "[encoded data removed]",
      "text/plain": [
       "<Figure size 432x288 with 1 Axes>"
      ]
     },
     "metadata": {
      "needs_background": "light"
     },
     "output_type": "display_data"
    }
   ],
   "source": [
    "sns.boxplot(x='Deposito_Ingreso', data=data);"
   ]
  },
  {
   "cell_type": "code",
   "execution_count": 18,
   "metadata": {},
   "outputs": [
    {
     "data": {
      "image/png": "[encoded data removed]",
      "text/plain": [
       "<Figure size 432x288 with 1 Axes>"
      ]
     },
     "metadata": {
      "needs_background": "light"
     },
     "output_type": "display_data"
    }
   ],
   "source": [
    "sns.boxplot(x='Estadia', data=data);"
   ]
  },
  {
   "attachments": {},
   "cell_type": "markdown",
   "metadata": {},
   "source": [
    "- #### **Codificación de Variables Categóricas.**"
   ]
  },
  {
   "attachments": {},
   "cell_type": "markdown",
   "metadata": {},
   "source": [
    "Hago la codificación para poder trabajar con valores numéricos."
   ]
  },
  {
   "cell_type": "code",
   "execution_count": 19,
   "metadata": {},
   "outputs": [],
   "source": [
    "#posibles features que puedo codificar\n",
    "\n",
    "columnas_categoricas = ['Departamento', 'Codigo_Hab', 'Rango_Etario', 'Genero', 'Tipo_Ingreso', 'Gravedad_Enfermedad', 'Condicion_Salud', 'Seguro']"
   ]
  },
  {
   "cell_type": "code",
   "execution_count": 20,
   "metadata": {},
   "outputs": [
    {
     "name": "stdout",
     "output_type": "stream",
     "text": [
      "categorías de Departamento: ==========> ['gynecology', 'anesthesia', 'TB & Chest disease', 'radiotherapy', 'surgery']\n",
      "categorías de Codigo_Hab: ==========> ['D', 'B', 'E', 'F', 'A', 'C']\n",
      "categorías de Rango_Etario: ==========> ['41-50', '31-40', '21-30', '71-80', '11-20', '51-60', '61-70', '81-90', '91-100', '0-10']\n",
      "categorías de Genero: ==========> ['Female', 'Male', 'Other']\n",
      "categorías de Tipo_Ingreso: ==========> ['Trauma', 'Urgent', 'Emergency']\n",
      "categorías de Gravedad_Enfermedad: ==========> ['Extreme', 'Minor', 'Moderate']\n",
      "categorías de Condicion_Salud: ==========> ['Diabetes', 'Heart disease', 'None', 'Other', 'Asthama', 'High Blood Pressure']\n",
      "categorías de Seguro: ==========> ['Yes', 'No']\n"
     ]
    }
   ],
   "source": [
    "for i in columnas_categoricas:\n",
    "    print(f'categorías de {i}:', data[i].unique().tolist(), sep=' ==========> ')"
   ]
  },
  {
   "attachments": {},
   "cell_type": "markdown",
   "metadata": {},
   "source": [
    "##### Se usará **OneHotEncoder** para las features con categorías de tipo _nominal_, **OrdinalEncoder** para categorías de tipo _ordinal_."
   ]
  },
  {
   "cell_type": "code",
   "execution_count": 21,
   "metadata": {},
   "outputs": [],
   "source": [
    "#importo las clases necesarias para el encoding\n",
    "\n",
    "from sklearn.preprocessing import OneHotEncoder, OrdinalEncoder"
   ]
  },
  {
   "attachments": {},
   "cell_type": "markdown",
   "metadata": {},
   "source": [
    "##### Empiezo con las categorías de tipo **_nominal_**\n",
    "las columnas a codificar serán: \n",
    "1) Genero\n",
    "2) Tipo_Ingreso\n",
    "3) Seguro"
   ]
  },
  {
   "cell_type": "code",
   "execution_count": 22,
   "metadata": {},
   "outputs": [],
   "source": [
    "#Codifico la columna 'Genero'\n",
    "\n",
    "data_encoded = data[['Genero']]\n",
    "ohe = OneHotEncoder(handle_unknown='ignore')\n",
    "data_encoded = pd.DataFrame(ohe.fit_transform(data_encoded).toarray(), columns=['Female', 'Male', 'Other'])\n"
   ]
  },
  {
   "cell_type": "code",
   "execution_count": 23,
   "metadata": {},
   "outputs": [
    {
     "data": {
      "text/plain": [
       "[array(['Female', 'Male', 'Other'], dtype=object)]"
      ]
     },
     "execution_count": 23,
     "metadata": {},
     "output_type": "execute_result"
    }
   ],
   "source": [
    "#esto lo hago para ver el orden en que OneHotEncoder creará las nuevas columnas.\n",
    "\n",
    "ohe.categories_"
   ]
  },
  {
   "cell_type": "code",
   "execution_count": 24,
   "metadata": {},
   "outputs": [
    {
     "data": {
      "text/plain": [
       "Female    299502\n",
       "Male       92605\n",
       "Other      17893\n",
       "Name: Genero, dtype: int64"
      ]
     },
     "execution_count": 24,
     "metadata": {},
     "output_type": "execute_result"
    }
   ],
   "source": [
    "#verifico la cantidad de valores asignados a cada categoría\n",
    "data['Genero'].value_counts()"
   ]
  },
  {
   "cell_type": "code",
   "execution_count": 25,
   "metadata": {},
   "outputs": [
    {
     "data": {
      "text/plain": [
       "Female  Male  Other\n",
       "1.0     0.0   0.0      299502\n",
       "0.0     1.0   0.0       92605\n",
       "        0.0   1.0       17893\n",
       "dtype: int64"
      ]
     },
     "execution_count": 25,
     "metadata": {},
     "output_type": "execute_result"
    }
   ],
   "source": [
    "#verifico que haya asignado bien el nombre de columna\n",
    "data_encoded.value_counts()"
   ]
  },
  {
   "cell_type": "code",
   "execution_count": 26,
   "metadata": {},
   "outputs": [],
   "source": [
    "#añado mis nuevas columnas codificadas a mi dataframe\n",
    "\n",
    "data = pd.concat([data, data_encoded], axis=1)"
   ]
  },
  {
   "cell_type": "code",
   "execution_count": 27,
   "metadata": {},
   "outputs": [
    {
     "data": {
      "text/html": [
       "<div>\n",
       "<style scoped>\n",
       "    .dataframe tbody tr th:only-of-type {\n",
       "        vertical-align: middle;\n",
       "    }\n",
       "\n",
       "    .dataframe tbody tr th {\n",
       "        vertical-align: top;\n",
       "    }\n",
       "\n",
       "    .dataframe thead th {\n",
       "        text-align: right;\n",
       "    }\n",
       "</style>\n",
       "<table border=\"1\" class=\"dataframe\">\n",
       "  <thead>\n",
       "    <tr style=\"text-align: right;\">\n",
       "      <th></th>\n",
       "      <th>Hab_Disponibles</th>\n",
       "      <th>Departamento</th>\n",
       "      <th>Codigo_Hab</th>\n",
       "      <th>Nombre_Medico</th>\n",
       "      <th>Staff_Disponible</th>\n",
       "      <th>IdPaciente</th>\n",
       "      <th>Rango_Etario</th>\n",
       "      <th>Genero</th>\n",
       "      <th>Tipo_Ingreso</th>\n",
       "      <th>Gravedad_Enfermedad</th>\n",
       "      <th>Condicion_Salud</th>\n",
       "      <th>Visitantes</th>\n",
       "      <th>Seguro</th>\n",
       "      <th>Deposito_Ingreso</th>\n",
       "      <th>Estadia</th>\n",
       "      <th>Female</th>\n",
       "      <th>Male</th>\n",
       "      <th>Other</th>\n",
       "    </tr>\n",
       "  </thead>\n",
       "  <tbody>\n",
       "    <tr>\n",
       "      <th>0</th>\n",
       "      <td>4</td>\n",
       "      <td>gynecology</td>\n",
       "      <td>D</td>\n",
       "      <td>Dr Sophia</td>\n",
       "      <td>0</td>\n",
       "      <td>33070</td>\n",
       "      <td>41-50</td>\n",
       "      <td>Female</td>\n",
       "      <td>Trauma</td>\n",
       "      <td>Extreme</td>\n",
       "      <td>Diabetes</td>\n",
       "      <td>4</td>\n",
       "      <td>Yes</td>\n",
       "      <td>2966.408696</td>\n",
       "      <td>8</td>\n",
       "      <td>1.0</td>\n",
       "      <td>0.0</td>\n",
       "      <td>0.0</td>\n",
       "    </tr>\n",
       "    <tr>\n",
       "      <th>1</th>\n",
       "      <td>4</td>\n",
       "      <td>gynecology</td>\n",
       "      <td>B</td>\n",
       "      <td>Dr Sophia</td>\n",
       "      <td>2</td>\n",
       "      <td>34808</td>\n",
       "      <td>31-40</td>\n",
       "      <td>Female</td>\n",
       "      <td>Trauma</td>\n",
       "      <td>Minor</td>\n",
       "      <td>Heart disease</td>\n",
       "      <td>2</td>\n",
       "      <td>No</td>\n",
       "      <td>3554.835677</td>\n",
       "      <td>9</td>\n",
       "      <td>1.0</td>\n",
       "      <td>0.0</td>\n",
       "      <td>0.0</td>\n",
       "    </tr>\n",
       "    <tr>\n",
       "      <th>2</th>\n",
       "      <td>2</td>\n",
       "      <td>gynecology</td>\n",
       "      <td>B</td>\n",
       "      <td>Dr Sophia</td>\n",
       "      <td>8</td>\n",
       "      <td>44577</td>\n",
       "      <td>21-30</td>\n",
       "      <td>Female</td>\n",
       "      <td>Trauma</td>\n",
       "      <td>Extreme</td>\n",
       "      <td>Diabetes</td>\n",
       "      <td>2</td>\n",
       "      <td>Yes</td>\n",
       "      <td>5624.733654</td>\n",
       "      <td>7</td>\n",
       "      <td>1.0</td>\n",
       "      <td>0.0</td>\n",
       "      <td>0.0</td>\n",
       "    </tr>\n",
       "    <tr>\n",
       "      <th>3</th>\n",
       "      <td>4</td>\n",
       "      <td>gynecology</td>\n",
       "      <td>D</td>\n",
       "      <td>Dr Olivia</td>\n",
       "      <td>7</td>\n",
       "      <td>3695</td>\n",
       "      <td>31-40</td>\n",
       "      <td>Female</td>\n",
       "      <td>Urgent</td>\n",
       "      <td>Moderate</td>\n",
       "      <td>None</td>\n",
       "      <td>4</td>\n",
       "      <td>No</td>\n",
       "      <td>4814.149231</td>\n",
       "      <td>8</td>\n",
       "      <td>1.0</td>\n",
       "      <td>0.0</td>\n",
       "      <td>0.0</td>\n",
       "    </tr>\n",
       "    <tr>\n",
       "      <th>4</th>\n",
       "      <td>2</td>\n",
       "      <td>anesthesia</td>\n",
       "      <td>E</td>\n",
       "      <td>Dr Mark</td>\n",
       "      <td>10</td>\n",
       "      <td>108956</td>\n",
       "      <td>71-80</td>\n",
       "      <td>Male</td>\n",
       "      <td>Trauma</td>\n",
       "      <td>Moderate</td>\n",
       "      <td>Diabetes</td>\n",
       "      <td>2</td>\n",
       "      <td>No</td>\n",
       "      <td>5169.269637</td>\n",
       "      <td>34</td>\n",
       "      <td>0.0</td>\n",
       "      <td>1.0</td>\n",
       "      <td>0.0</td>\n",
       "    </tr>\n",
       "  </tbody>\n",
       "</table>\n",
       "</div>"
      ],
      "text/plain": [
       "   Hab_Disponibles Departamento Codigo_Hab Nombre_Medico  Staff_Disponible  \\\n",
       "0                4   gynecology          D     Dr Sophia                 0   \n",
       "1                4   gynecology          B     Dr Sophia                 2   \n",
       "2                2   gynecology          B     Dr Sophia                 8   \n",
       "3                4   gynecology          D     Dr Olivia                 7   \n",
       "4                2   anesthesia          E       Dr Mark                10   \n",
       "\n",
       "   IdPaciente Rango_Etario  Genero Tipo_Ingreso Gravedad_Enfermedad  \\\n",
       "0       33070        41-50  Female       Trauma             Extreme   \n",
       "1       34808        31-40  Female       Trauma               Minor   \n",
       "2       44577        21-30  Female       Trauma             Extreme   \n",
       "3        3695        31-40  Female       Urgent            Moderate   \n",
       "4      108956        71-80    Male       Trauma            Moderate   \n",
       "\n",
       "  Condicion_Salud  Visitantes Seguro  Deposito_Ingreso  Estadia  Female  Male  \\\n",
       "0        Diabetes           4    Yes       2966.408696        8     1.0   0.0   \n",
       "1   Heart disease           2     No       3554.835677        9     1.0   0.0   \n",
       "2        Diabetes           2    Yes       5624.733654        7     1.0   0.0   \n",
       "3            None           4     No       4814.149231        8     1.0   0.0   \n",
       "4        Diabetes           2     No       5169.269637       34     0.0   1.0   \n",
       "\n",
       "   Other  \n",
       "0    0.0  \n",
       "1    0.0  \n",
       "2    0.0  \n",
       "3    0.0  \n",
       "4    0.0  "
      ]
     },
     "execution_count": 27,
     "metadata": {},
     "output_type": "execute_result"
    }
   ],
   "source": [
    "data.head()"
   ]
  },
  {
   "cell_type": "code",
   "execution_count": 28,
   "metadata": {},
   "outputs": [],
   "source": [
    "#codifico la columna 'Tipo_Ingreso'\n",
    "\n",
    "data_encoded = data[['Tipo_Ingreso']]\n",
    "ohe = OneHotEncoder(handle_unknown='ignore')\n",
    "data_encoded = pd.DataFrame(ohe.fit_transform(data_encoded).toarray(), columns=['Emergency', 'Trauma', 'Urgent'])\n"
   ]
  },
  {
   "cell_type": "code",
   "execution_count": 29,
   "metadata": {},
   "outputs": [
    {
     "data": {
      "text/plain": [
       "[array(['Emergency', 'Trauma', 'Urgent'], dtype=object)]"
      ]
     },
     "execution_count": 29,
     "metadata": {},
     "output_type": "execute_result"
    }
   ],
   "source": [
    "#veo el orden de las nuevas columnas\n",
    "\n",
    "ohe.categories_"
   ]
  },
  {
   "cell_type": "code",
   "execution_count": 30,
   "metadata": {},
   "outputs": [
    {
     "data": {
      "text/plain": [
       "Trauma       254698\n",
       "Emergency    111374\n",
       "Urgent        43928\n",
       "Name: Tipo_Ingreso, dtype: int64"
      ]
     },
     "execution_count": 30,
     "metadata": {},
     "output_type": "execute_result"
    }
   ],
   "source": [
    "data['Tipo_Ingreso'].value_counts()"
   ]
  },
  {
   "cell_type": "code",
   "execution_count": 31,
   "metadata": {},
   "outputs": [
    {
     "data": {
      "text/plain": [
       "Emergency  Trauma  Urgent\n",
       "0.0        1.0     0.0       254698\n",
       "1.0        0.0     0.0       111374\n",
       "0.0        0.0     1.0        43928\n",
       "dtype: int64"
      ]
     },
     "execution_count": 31,
     "metadata": {},
     "output_type": "execute_result"
    }
   ],
   "source": [
    "data_encoded.value_counts()"
   ]
  },
  {
   "cell_type": "code",
   "execution_count": 32,
   "metadata": {},
   "outputs": [],
   "source": [
    "#añado las nuevas columnas a mi DataFrame\n",
    "data = pd.concat([data, data_encoded], axis=1)"
   ]
  },
  {
   "cell_type": "code",
   "execution_count": 33,
   "metadata": {},
   "outputs": [
    {
     "data": {
      "text/html": [
       "<div>\n",
       "<style scoped>\n",
       "    .dataframe tbody tr th:only-of-type {\n",
       "        vertical-align: middle;\n",
       "    }\n",
       "\n",
       "    .dataframe tbody tr th {\n",
       "        vertical-align: top;\n",
       "    }\n",
       "\n",
       "    .dataframe thead th {\n",
       "        text-align: right;\n",
       "    }\n",
       "</style>\n",
       "<table border=\"1\" class=\"dataframe\">\n",
       "  <thead>\n",
       "    <tr style=\"text-align: right;\">\n",
       "      <th></th>\n",
       "      <th>Hab_Disponibles</th>\n",
       "      <th>Departamento</th>\n",
       "      <th>Codigo_Hab</th>\n",
       "      <th>Nombre_Medico</th>\n",
       "      <th>Staff_Disponible</th>\n",
       "      <th>IdPaciente</th>\n",
       "      <th>Rango_Etario</th>\n",
       "      <th>Genero</th>\n",
       "      <th>Tipo_Ingreso</th>\n",
       "      <th>Gravedad_Enfermedad</th>\n",
       "      <th>...</th>\n",
       "      <th>Visitantes</th>\n",
       "      <th>Seguro</th>\n",
       "      <th>Deposito_Ingreso</th>\n",
       "      <th>Estadia</th>\n",
       "      <th>Female</th>\n",
       "      <th>Male</th>\n",
       "      <th>Other</th>\n",
       "      <th>Emergency</th>\n",
       "      <th>Trauma</th>\n",
       "      <th>Urgent</th>\n",
       "    </tr>\n",
       "  </thead>\n",
       "  <tbody>\n",
       "    <tr>\n",
       "      <th>0</th>\n",
       "      <td>4</td>\n",
       "      <td>gynecology</td>\n",
       "      <td>D</td>\n",
       "      <td>Dr Sophia</td>\n",
       "      <td>0</td>\n",
       "      <td>33070</td>\n",
       "      <td>41-50</td>\n",
       "      <td>Female</td>\n",
       "      <td>Trauma</td>\n",
       "      <td>Extreme</td>\n",
       "      <td>...</td>\n",
       "      <td>4</td>\n",
       "      <td>Yes</td>\n",
       "      <td>2966.408696</td>\n",
       "      <td>8</td>\n",
       "      <td>1.0</td>\n",
       "      <td>0.0</td>\n",
       "      <td>0.0</td>\n",
       "      <td>0.0</td>\n",
       "      <td>1.0</td>\n",
       "      <td>0.0</td>\n",
       "    </tr>\n",
       "    <tr>\n",
       "      <th>1</th>\n",
       "      <td>4</td>\n",
       "      <td>gynecology</td>\n",
       "      <td>B</td>\n",
       "      <td>Dr Sophia</td>\n",
       "      <td>2</td>\n",
       "      <td>34808</td>\n",
       "      <td>31-40</td>\n",
       "      <td>Female</td>\n",
       "      <td>Trauma</td>\n",
       "      <td>Minor</td>\n",
       "      <td>...</td>\n",
       "      <td>2</td>\n",
       "      <td>No</td>\n",
       "      <td>3554.835677</td>\n",
       "      <td>9</td>\n",
       "      <td>1.0</td>\n",
       "      <td>0.0</td>\n",
       "      <td>0.0</td>\n",
       "      <td>0.0</td>\n",
       "      <td>1.0</td>\n",
       "      <td>0.0</td>\n",
       "    </tr>\n",
       "    <tr>\n",
       "      <th>2</th>\n",
       "      <td>2</td>\n",
       "      <td>gynecology</td>\n",
       "      <td>B</td>\n",
       "      <td>Dr Sophia</td>\n",
       "      <td>8</td>\n",
       "      <td>44577</td>\n",
       "      <td>21-30</td>\n",
       "      <td>Female</td>\n",
       "      <td>Trauma</td>\n",
       "      <td>Extreme</td>\n",
       "      <td>...</td>\n",
       "      <td>2</td>\n",
       "      <td>Yes</td>\n",
       "      <td>5624.733654</td>\n",
       "      <td>7</td>\n",
       "      <td>1.0</td>\n",
       "      <td>0.0</td>\n",
       "      <td>0.0</td>\n",
       "      <td>0.0</td>\n",
       "      <td>1.0</td>\n",
       "      <td>0.0</td>\n",
       "    </tr>\n",
       "    <tr>\n",
       "      <th>3</th>\n",
       "      <td>4</td>\n",
       "      <td>gynecology</td>\n",
       "      <td>D</td>\n",
       "      <td>Dr Olivia</td>\n",
       "      <td>7</td>\n",
       "      <td>3695</td>\n",
       "      <td>31-40</td>\n",
       "      <td>Female</td>\n",
       "      <td>Urgent</td>\n",
       "      <td>Moderate</td>\n",
       "      <td>...</td>\n",
       "      <td>4</td>\n",
       "      <td>No</td>\n",
       "      <td>4814.149231</td>\n",
       "      <td>8</td>\n",
       "      <td>1.0</td>\n",
       "      <td>0.0</td>\n",
       "      <td>0.0</td>\n",
       "      <td>0.0</td>\n",
       "      <td>0.0</td>\n",
       "      <td>1.0</td>\n",
       "    </tr>\n",
       "    <tr>\n",
       "      <th>4</th>\n",
       "      <td>2</td>\n",
       "      <td>anesthesia</td>\n",
       "      <td>E</td>\n",
       "      <td>Dr Mark</td>\n",
       "      <td>10</td>\n",
       "      <td>108956</td>\n",
       "      <td>71-80</td>\n",
       "      <td>Male</td>\n",
       "      <td>Trauma</td>\n",
       "      <td>Moderate</td>\n",
       "      <td>...</td>\n",
       "      <td>2</td>\n",
       "      <td>No</td>\n",
       "      <td>5169.269637</td>\n",
       "      <td>34</td>\n",
       "      <td>0.0</td>\n",
       "      <td>1.0</td>\n",
       "      <td>0.0</td>\n",
       "      <td>0.0</td>\n",
       "      <td>1.0</td>\n",
       "      <td>0.0</td>\n",
       "    </tr>\n",
       "  </tbody>\n",
       "</table>\n",
       "<p>5 rows × 21 columns</p>\n",
       "</div>"
      ],
      "text/plain": [
       "   Hab_Disponibles Departamento Codigo_Hab Nombre_Medico  Staff_Disponible  \\\n",
       "0                4   gynecology          D     Dr Sophia                 0   \n",
       "1                4   gynecology          B     Dr Sophia                 2   \n",
       "2                2   gynecology          B     Dr Sophia                 8   \n",
       "3                4   gynecology          D     Dr Olivia                 7   \n",
       "4                2   anesthesia          E       Dr Mark                10   \n",
       "\n",
       "   IdPaciente Rango_Etario  Genero Tipo_Ingreso Gravedad_Enfermedad  ...  \\\n",
       "0       33070        41-50  Female       Trauma             Extreme  ...   \n",
       "1       34808        31-40  Female       Trauma               Minor  ...   \n",
       "2       44577        21-30  Female       Trauma             Extreme  ...   \n",
       "3        3695        31-40  Female       Urgent            Moderate  ...   \n",
       "4      108956        71-80    Male       Trauma            Moderate  ...   \n",
       "\n",
       "  Visitantes  Seguro Deposito_Ingreso  Estadia  Female  Male  Other  \\\n",
       "0          4     Yes      2966.408696        8     1.0   0.0    0.0   \n",
       "1          2      No      3554.835677        9     1.0   0.0    0.0   \n",
       "2          2     Yes      5624.733654        7     1.0   0.0    0.0   \n",
       "3          4      No      4814.149231        8     1.0   0.0    0.0   \n",
       "4          2      No      5169.269637       34     0.0   1.0    0.0   \n",
       "\n",
       "   Emergency  Trauma  Urgent  \n",
       "0        0.0     1.0     0.0  \n",
       "1        0.0     1.0     0.0  \n",
       "2        0.0     1.0     0.0  \n",
       "3        0.0     0.0     1.0  \n",
       "4        0.0     1.0     0.0  \n",
       "\n",
       "[5 rows x 21 columns]"
      ]
     },
     "execution_count": 33,
     "metadata": {},
     "output_type": "execute_result"
    }
   ],
   "source": [
    "data.head()"
   ]
  },
  {
   "cell_type": "code",
   "execution_count": 34,
   "metadata": {},
   "outputs": [],
   "source": [
    "#Codifico la columna 'Seguro'\n",
    "\n",
    "data_encoded = data[['Seguro']]\n",
    "ohe = OneHotEncoder(handle_unknown='ignore')\n",
    "data_encoded = pd.DataFrame(ohe.fit_transform(data_encoded).toarray(), columns=['Sin_Seguro', 'Con_Seguro'])\n"
   ]
  },
  {
   "cell_type": "code",
   "execution_count": 35,
   "metadata": {},
   "outputs": [
    {
     "data": {
      "text/plain": [
       "[array(['No', 'Yes'], dtype=object)]"
      ]
     },
     "execution_count": 35,
     "metadata": {},
     "output_type": "execute_result"
    }
   ],
   "source": [
    "ohe.categories_"
   ]
  },
  {
   "cell_type": "code",
   "execution_count": 36,
   "metadata": {},
   "outputs": [
    {
     "data": {
      "text/plain": [
       "Yes    340499\n",
       "No      69501\n",
       "Name: Seguro, dtype: int64"
      ]
     },
     "execution_count": 36,
     "metadata": {},
     "output_type": "execute_result"
    }
   ],
   "source": [
    "data['Seguro'].value_counts()"
   ]
  },
  {
   "cell_type": "code",
   "execution_count": 37,
   "metadata": {},
   "outputs": [
    {
     "data": {
      "text/plain": [
       "Sin_Seguro  Con_Seguro\n",
       "0.0         1.0           340499\n",
       "1.0         0.0            69501\n",
       "dtype: int64"
      ]
     },
     "execution_count": 37,
     "metadata": {},
     "output_type": "execute_result"
    }
   ],
   "source": [
    "data_encoded.value_counts()"
   ]
  },
  {
   "cell_type": "code",
   "execution_count": 38,
   "metadata": {},
   "outputs": [],
   "source": [
    "#añado las nuevas columnas a mi dataframe\n",
    "\n",
    "data = pd.concat([data, data_encoded], axis=1)"
   ]
  },
  {
   "cell_type": "code",
   "execution_count": 39,
   "metadata": {},
   "outputs": [
    {
     "data": {
      "text/html": [
       "<div>\n",
       "<style scoped>\n",
       "    .dataframe tbody tr th:only-of-type {\n",
       "        vertical-align: middle;\n",
       "    }\n",
       "\n",
       "    .dataframe tbody tr th {\n",
       "        vertical-align: top;\n",
       "    }\n",
       "\n",
       "    .dataframe thead th {\n",
       "        text-align: right;\n",
       "    }\n",
       "</style>\n",
       "<table border=\"1\" class=\"dataframe\">\n",
       "  <thead>\n",
       "    <tr style=\"text-align: right;\">\n",
       "      <th></th>\n",
       "      <th>Hab_Disponibles</th>\n",
       "      <th>Departamento</th>\n",
       "      <th>Codigo_Hab</th>\n",
       "      <th>Nombre_Medico</th>\n",
       "      <th>Staff_Disponible</th>\n",
       "      <th>IdPaciente</th>\n",
       "      <th>Rango_Etario</th>\n",
       "      <th>Genero</th>\n",
       "      <th>Tipo_Ingreso</th>\n",
       "      <th>Gravedad_Enfermedad</th>\n",
       "      <th>...</th>\n",
       "      <th>Deposito_Ingreso</th>\n",
       "      <th>Estadia</th>\n",
       "      <th>Female</th>\n",
       "      <th>Male</th>\n",
       "      <th>Other</th>\n",
       "      <th>Emergency</th>\n",
       "      <th>Trauma</th>\n",
       "      <th>Urgent</th>\n",
       "      <th>Sin_Seguro</th>\n",
       "      <th>Con_Seguro</th>\n",
       "    </tr>\n",
       "  </thead>\n",
       "  <tbody>\n",
       "    <tr>\n",
       "      <th>0</th>\n",
       "      <td>4</td>\n",
       "      <td>gynecology</td>\n",
       "      <td>D</td>\n",
       "      <td>Dr Sophia</td>\n",
       "      <td>0</td>\n",
       "      <td>33070</td>\n",
       "      <td>41-50</td>\n",
       "      <td>Female</td>\n",
       "      <td>Trauma</td>\n",
       "      <td>Extreme</td>\n",
       "      <td>...</td>\n",
       "      <td>2966.408696</td>\n",
       "      <td>8</td>\n",
       "      <td>1.0</td>\n",
       "      <td>0.0</td>\n",
       "      <td>0.0</td>\n",
       "      <td>0.0</td>\n",
       "      <td>1.0</td>\n",
       "      <td>0.0</td>\n",
       "      <td>0.0</td>\n",
       "      <td>1.0</td>\n",
       "    </tr>\n",
       "    <tr>\n",
       "      <th>1</th>\n",
       "      <td>4</td>\n",
       "      <td>gynecology</td>\n",
       "      <td>B</td>\n",
       "      <td>Dr Sophia</td>\n",
       "      <td>2</td>\n",
       "      <td>34808</td>\n",
       "      <td>31-40</td>\n",
       "      <td>Female</td>\n",
       "      <td>Trauma</td>\n",
       "      <td>Minor</td>\n",
       "      <td>...</td>\n",
       "      <td>3554.835677</td>\n",
       "      <td>9</td>\n",
       "      <td>1.0</td>\n",
       "      <td>0.0</td>\n",
       "      <td>0.0</td>\n",
       "      <td>0.0</td>\n",
       "      <td>1.0</td>\n",
       "      <td>0.0</td>\n",
       "      <td>1.0</td>\n",
       "      <td>0.0</td>\n",
       "    </tr>\n",
       "    <tr>\n",
       "      <th>2</th>\n",
       "      <td>2</td>\n",
       "      <td>gynecology</td>\n",
       "      <td>B</td>\n",
       "      <td>Dr Sophia</td>\n",
       "      <td>8</td>\n",
       "      <td>44577</td>\n",
       "      <td>21-30</td>\n",
       "      <td>Female</td>\n",
       "      <td>Trauma</td>\n",
       "      <td>Extreme</td>\n",
       "      <td>...</td>\n",
       "      <td>5624.733654</td>\n",
       "      <td>7</td>\n",
       "      <td>1.0</td>\n",
       "      <td>0.0</td>\n",
       "      <td>0.0</td>\n",
       "      <td>0.0</td>\n",
       "      <td>1.0</td>\n",
       "      <td>0.0</td>\n",
       "      <td>0.0</td>\n",
       "      <td>1.0</td>\n",
       "    </tr>\n",
       "    <tr>\n",
       "      <th>3</th>\n",
       "      <td>4</td>\n",
       "      <td>gynecology</td>\n",
       "      <td>D</td>\n",
       "      <td>Dr Olivia</td>\n",
       "      <td>7</td>\n",
       "      <td>3695</td>\n",
       "      <td>31-40</td>\n",
       "      <td>Female</td>\n",
       "      <td>Urgent</td>\n",
       "      <td>Moderate</td>\n",
       "      <td>...</td>\n",
       "      <td>4814.149231</td>\n",
       "      <td>8</td>\n",
       "      <td>1.0</td>\n",
       "      <td>0.0</td>\n",
       "      <td>0.0</td>\n",
       "      <td>0.0</td>\n",
       "      <td>0.0</td>\n",
       "      <td>1.0</td>\n",
       "      <td>1.0</td>\n",
       "      <td>0.0</td>\n",
       "    </tr>\n",
       "    <tr>\n",
       "      <th>4</th>\n",
       "      <td>2</td>\n",
       "      <td>anesthesia</td>\n",
       "      <td>E</td>\n",
       "      <td>Dr Mark</td>\n",
       "      <td>10</td>\n",
       "      <td>108956</td>\n",
       "      <td>71-80</td>\n",
       "      <td>Male</td>\n",
       "      <td>Trauma</td>\n",
       "      <td>Moderate</td>\n",
       "      <td>...</td>\n",
       "      <td>5169.269637</td>\n",
       "      <td>34</td>\n",
       "      <td>0.0</td>\n",
       "      <td>1.0</td>\n",
       "      <td>0.0</td>\n",
       "      <td>0.0</td>\n",
       "      <td>1.0</td>\n",
       "      <td>0.0</td>\n",
       "      <td>1.0</td>\n",
       "      <td>0.0</td>\n",
       "    </tr>\n",
       "  </tbody>\n",
       "</table>\n",
       "<p>5 rows × 23 columns</p>\n",
       "</div>"
      ],
      "text/plain": [
       "   Hab_Disponibles Departamento Codigo_Hab Nombre_Medico  Staff_Disponible  \\\n",
       "0                4   gynecology          D     Dr Sophia                 0   \n",
       "1                4   gynecology          B     Dr Sophia                 2   \n",
       "2                2   gynecology          B     Dr Sophia                 8   \n",
       "3                4   gynecology          D     Dr Olivia                 7   \n",
       "4                2   anesthesia          E       Dr Mark                10   \n",
       "\n",
       "   IdPaciente Rango_Etario  Genero Tipo_Ingreso Gravedad_Enfermedad  ...  \\\n",
       "0       33070        41-50  Female       Trauma             Extreme  ...   \n",
       "1       34808        31-40  Female       Trauma               Minor  ...   \n",
       "2       44577        21-30  Female       Trauma             Extreme  ...   \n",
       "3        3695        31-40  Female       Urgent            Moderate  ...   \n",
       "4      108956        71-80    Male       Trauma            Moderate  ...   \n",
       "\n",
       "  Deposito_Ingreso  Estadia Female  Male  Other  Emergency  Trauma  Urgent  \\\n",
       "0      2966.408696        8    1.0   0.0    0.0        0.0     1.0     0.0   \n",
       "1      3554.835677        9    1.0   0.0    0.0        0.0     1.0     0.0   \n",
       "2      5624.733654        7    1.0   0.0    0.0        0.0     1.0     0.0   \n",
       "3      4814.149231        8    1.0   0.0    0.0        0.0     0.0     1.0   \n",
       "4      5169.269637       34    0.0   1.0    0.0        0.0     1.0     0.0   \n",
       "\n",
       "   Sin_Seguro  Con_Seguro  \n",
       "0         0.0         1.0  \n",
       "1         1.0         0.0  \n",
       "2         0.0         1.0  \n",
       "3         1.0         0.0  \n",
       "4         1.0         0.0  \n",
       "\n",
       "[5 rows x 23 columns]"
      ]
     },
     "execution_count": 39,
     "metadata": {},
     "output_type": "execute_result"
    }
   ],
   "source": [
    "data.head()"
   ]
  },
  {
   "attachments": {},
   "cell_type": "markdown",
   "metadata": {},
   "source": [
    "##### Sigo con las categorías de tipo **_ordinal_**\n",
    "Considero que las categorías de estas features guardan cierto orden.\n",
    "\n",
    "Las columnas a codificar son:\n",
    "1) Gravedad_Enfermedad\n",
    "2) Condicion_Salud\n",
    "3) Rango_Etario"
   ]
  },
  {
   "cell_type": "code",
   "execution_count": 40,
   "metadata": {},
   "outputs": [
    {
     "data": {
      "text/plain": [
       "array(['Extreme', 'Minor', 'Moderate'], dtype=object)"
      ]
     },
     "execution_count": 40,
     "metadata": {},
     "output_type": "execute_result"
    }
   ],
   "source": [
    "#veo las categorías de mi feature\n",
    "\n",
    "data['Gravedad_Enfermedad'].unique()"
   ]
  },
  {
   "cell_type": "code",
   "execution_count": 41,
   "metadata": {},
   "outputs": [],
   "source": [
    "#creo mi lista de categorías en el orden que quiero pasárselo a mi instancia de coding\n",
    "\n",
    "gravedad = ['Extreme', 'Moderate', 'Minor']"
   ]
  },
  {
   "cell_type": "code",
   "execution_count": 42,
   "metadata": {},
   "outputs": [],
   "source": [
    "#creo mi instancia\n",
    "\n",
    "enc = OrdinalEncoder(categories=[gravedad])"
   ]
  },
  {
   "cell_type": "code",
   "execution_count": 43,
   "metadata": {},
   "outputs": [],
   "source": [
    "#Creo una nueva columna con el encoding, basado en la columna 'Gravedad_Enfermedad' de mi DataFrame.\n",
    "\n",
    "data['Gravedad_Enfermedad_Ordenado'] = enc.fit_transform(data[['Gravedad_Enfermedad']])"
   ]
  },
  {
   "cell_type": "code",
   "execution_count": 44,
   "metadata": {},
   "outputs": [
    {
     "data": {
      "text/plain": [
       "Moderate    230819\n",
       "Minor       107897\n",
       "Extreme      71284\n",
       "Name: Gravedad_Enfermedad, dtype: int64"
      ]
     },
     "execution_count": 44,
     "metadata": {},
     "output_type": "execute_result"
    }
   ],
   "source": [
    "data['Gravedad_Enfermedad'].value_counts()"
   ]
  },
  {
   "cell_type": "code",
   "execution_count": 45,
   "metadata": {},
   "outputs": [
    {
     "data": {
      "text/plain": [
       "1.0    230819\n",
       "2.0    107897\n",
       "0.0     71284\n",
       "Name: Gravedad_Enfermedad_Ordenado, dtype: int64"
      ]
     },
     "execution_count": 45,
     "metadata": {},
     "output_type": "execute_result"
    }
   ],
   "source": [
    "#verifico que haya asignado el encoding acorde al orden de gravedad que le he pasado\n",
    "\n",
    "data['Gravedad_Enfermedad_Ordenado'].value_counts()"
   ]
  },
  {
   "cell_type": "code",
   "execution_count": 46,
   "metadata": {},
   "outputs": [
    {
     "data": {
      "text/html": [
       "<div>\n",
       "<style scoped>\n",
       "    .dataframe tbody tr th:only-of-type {\n",
       "        vertical-align: middle;\n",
       "    }\n",
       "\n",
       "    .dataframe tbody tr th {\n",
       "        vertical-align: top;\n",
       "    }\n",
       "\n",
       "    .dataframe thead th {\n",
       "        text-align: right;\n",
       "    }\n",
       "</style>\n",
       "<table border=\"1\" class=\"dataframe\">\n",
       "  <thead>\n",
       "    <tr style=\"text-align: right;\">\n",
       "      <th></th>\n",
       "      <th>Hab_Disponibles</th>\n",
       "      <th>Departamento</th>\n",
       "      <th>Codigo_Hab</th>\n",
       "      <th>Nombre_Medico</th>\n",
       "      <th>Staff_Disponible</th>\n",
       "      <th>IdPaciente</th>\n",
       "      <th>Rango_Etario</th>\n",
       "      <th>Genero</th>\n",
       "      <th>Tipo_Ingreso</th>\n",
       "      <th>Gravedad_Enfermedad</th>\n",
       "      <th>...</th>\n",
       "      <th>Estadia</th>\n",
       "      <th>Female</th>\n",
       "      <th>Male</th>\n",
       "      <th>Other</th>\n",
       "      <th>Emergency</th>\n",
       "      <th>Trauma</th>\n",
       "      <th>Urgent</th>\n",
       "      <th>Sin_Seguro</th>\n",
       "      <th>Con_Seguro</th>\n",
       "      <th>Gravedad_Enfermedad_Ordenado</th>\n",
       "    </tr>\n",
       "  </thead>\n",
       "  <tbody>\n",
       "    <tr>\n",
       "      <th>0</th>\n",
       "      <td>4</td>\n",
       "      <td>gynecology</td>\n",
       "      <td>D</td>\n",
       "      <td>Dr Sophia</td>\n",
       "      <td>0</td>\n",
       "      <td>33070</td>\n",
       "      <td>41-50</td>\n",
       "      <td>Female</td>\n",
       "      <td>Trauma</td>\n",
       "      <td>Extreme</td>\n",
       "      <td>...</td>\n",
       "      <td>8</td>\n",
       "      <td>1.0</td>\n",
       "      <td>0.0</td>\n",
       "      <td>0.0</td>\n",
       "      <td>0.0</td>\n",
       "      <td>1.0</td>\n",
       "      <td>0.0</td>\n",
       "      <td>0.0</td>\n",
       "      <td>1.0</td>\n",
       "      <td>0.0</td>\n",
       "    </tr>\n",
       "    <tr>\n",
       "      <th>1</th>\n",
       "      <td>4</td>\n",
       "      <td>gynecology</td>\n",
       "      <td>B</td>\n",
       "      <td>Dr Sophia</td>\n",
       "      <td>2</td>\n",
       "      <td>34808</td>\n",
       "      <td>31-40</td>\n",
       "      <td>Female</td>\n",
       "      <td>Trauma</td>\n",
       "      <td>Minor</td>\n",
       "      <td>...</td>\n",
       "      <td>9</td>\n",
       "      <td>1.0</td>\n",
       "      <td>0.0</td>\n",
       "      <td>0.0</td>\n",
       "      <td>0.0</td>\n",
       "      <td>1.0</td>\n",
       "      <td>0.0</td>\n",
       "      <td>1.0</td>\n",
       "      <td>0.0</td>\n",
       "      <td>2.0</td>\n",
       "    </tr>\n",
       "    <tr>\n",
       "      <th>2</th>\n",
       "      <td>2</td>\n",
       "      <td>gynecology</td>\n",
       "      <td>B</td>\n",
       "      <td>Dr Sophia</td>\n",
       "      <td>8</td>\n",
       "      <td>44577</td>\n",
       "      <td>21-30</td>\n",
       "      <td>Female</td>\n",
       "      <td>Trauma</td>\n",
       "      <td>Extreme</td>\n",
       "      <td>...</td>\n",
       "      <td>7</td>\n",
       "      <td>1.0</td>\n",
       "      <td>0.0</td>\n",
       "      <td>0.0</td>\n",
       "      <td>0.0</td>\n",
       "      <td>1.0</td>\n",
       "      <td>0.0</td>\n",
       "      <td>0.0</td>\n",
       "      <td>1.0</td>\n",
       "      <td>0.0</td>\n",
       "    </tr>\n",
       "    <tr>\n",
       "      <th>3</th>\n",
       "      <td>4</td>\n",
       "      <td>gynecology</td>\n",
       "      <td>D</td>\n",
       "      <td>Dr Olivia</td>\n",
       "      <td>7</td>\n",
       "      <td>3695</td>\n",
       "      <td>31-40</td>\n",
       "      <td>Female</td>\n",
       "      <td>Urgent</td>\n",
       "      <td>Moderate</td>\n",
       "      <td>...</td>\n",
       "      <td>8</td>\n",
       "      <td>1.0</td>\n",
       "      <td>0.0</td>\n",
       "      <td>0.0</td>\n",
       "      <td>0.0</td>\n",
       "      <td>0.0</td>\n",
       "      <td>1.0</td>\n",
       "      <td>1.0</td>\n",
       "      <td>0.0</td>\n",
       "      <td>1.0</td>\n",
       "    </tr>\n",
       "    <tr>\n",
       "      <th>4</th>\n",
       "      <td>2</td>\n",
       "      <td>anesthesia</td>\n",
       "      <td>E</td>\n",
       "      <td>Dr Mark</td>\n",
       "      <td>10</td>\n",
       "      <td>108956</td>\n",
       "      <td>71-80</td>\n",
       "      <td>Male</td>\n",
       "      <td>Trauma</td>\n",
       "      <td>Moderate</td>\n",
       "      <td>...</td>\n",
       "      <td>34</td>\n",
       "      <td>0.0</td>\n",
       "      <td>1.0</td>\n",
       "      <td>0.0</td>\n",
       "      <td>0.0</td>\n",
       "      <td>1.0</td>\n",
       "      <td>0.0</td>\n",
       "      <td>1.0</td>\n",
       "      <td>0.0</td>\n",
       "      <td>1.0</td>\n",
       "    </tr>\n",
       "  </tbody>\n",
       "</table>\n",
       "<p>5 rows × 24 columns</p>\n",
       "</div>"
      ],
      "text/plain": [
       "   Hab_Disponibles Departamento Codigo_Hab Nombre_Medico  Staff_Disponible  \\\n",
       "0                4   gynecology          D     Dr Sophia                 0   \n",
       "1                4   gynecology          B     Dr Sophia                 2   \n",
       "2                2   gynecology          B     Dr Sophia                 8   \n",
       "3                4   gynecology          D     Dr Olivia                 7   \n",
       "4                2   anesthesia          E       Dr Mark                10   \n",
       "\n",
       "   IdPaciente Rango_Etario  Genero Tipo_Ingreso Gravedad_Enfermedad  ...  \\\n",
       "0       33070        41-50  Female       Trauma             Extreme  ...   \n",
       "1       34808        31-40  Female       Trauma               Minor  ...   \n",
       "2       44577        21-30  Female       Trauma             Extreme  ...   \n",
       "3        3695        31-40  Female       Urgent            Moderate  ...   \n",
       "4      108956        71-80    Male       Trauma            Moderate  ...   \n",
       "\n",
       "  Estadia  Female Male  Other  Emergency  Trauma  Urgent  Sin_Seguro  \\\n",
       "0       8     1.0  0.0    0.0        0.0     1.0     0.0         0.0   \n",
       "1       9     1.0  0.0    0.0        0.0     1.0     0.0         1.0   \n",
       "2       7     1.0  0.0    0.0        0.0     1.0     0.0         0.0   \n",
       "3       8     1.0  0.0    0.0        0.0     0.0     1.0         1.0   \n",
       "4      34     0.0  1.0    0.0        0.0     1.0     0.0         1.0   \n",
       "\n",
       "   Con_Seguro  Gravedad_Enfermedad_Ordenado  \n",
       "0         1.0                           0.0  \n",
       "1         0.0                           2.0  \n",
       "2         1.0                           0.0  \n",
       "3         0.0                           1.0  \n",
       "4         0.0                           1.0  \n",
       "\n",
       "[5 rows x 24 columns]"
      ]
     },
     "execution_count": 46,
     "metadata": {},
     "output_type": "execute_result"
    }
   ],
   "source": [
    "data.head()"
   ]
  },
  {
   "cell_type": "code",
   "execution_count": 47,
   "metadata": {},
   "outputs": [
    {
     "data": {
      "text/plain": [
       "['Diabetes',\n",
       " 'Heart disease',\n",
       " 'None',\n",
       " 'Other',\n",
       " 'Asthama',\n",
       " 'High Blood Pressure']"
      ]
     },
     "execution_count": 47,
     "metadata": {},
     "output_type": "execute_result"
    }
   ],
   "source": [
    "#codifico Condicion_Salud\n",
    "\n",
    "data['Condicion_Salud'].unique().tolist()"
   ]
  },
  {
   "cell_type": "code",
   "execution_count": 48,
   "metadata": {},
   "outputs": [],
   "source": [
    "#creo mi lista de categorías en el orden que quiero pasárselo a mi instancia de coding\n",
    "\n",
    "condicion_salud = ['Heart disease', 'Diabetes', 'High Blood Pressure', 'Asthama', 'Other', 'None']"
   ]
  },
  {
   "cell_type": "code",
   "execution_count": 49,
   "metadata": {},
   "outputs": [],
   "source": [
    "#creo mi instancia\n",
    "\n",
    "enc = OrdinalEncoder(categories=[condicion_salud])"
   ]
  },
  {
   "cell_type": "code",
   "execution_count": 50,
   "metadata": {},
   "outputs": [],
   "source": [
    "#Creo una nueva columna con el encoding, basado en la columna 'Condicion_Salud' de mi DataFrame.\n",
    "\n",
    "data['Condicion_Salud_Ordenado'] = enc.fit_transform(data[['Condicion_Salud']])"
   ]
  },
  {
   "cell_type": "code",
   "execution_count": 51,
   "metadata": {},
   "outputs": [
    {
     "data": {
      "text/plain": [
       "None                   137202\n",
       "Other                   78335\n",
       "High Blood Pressure     64089\n",
       "Diabetes                58689\n",
       "Asthama                 50428\n",
       "Heart disease           21257\n",
       "Name: Condicion_Salud, dtype: int64"
      ]
     },
     "execution_count": 51,
     "metadata": {},
     "output_type": "execute_result"
    }
   ],
   "source": [
    "data['Condicion_Salud'].value_counts()\n"
   ]
  },
  {
   "cell_type": "code",
   "execution_count": 52,
   "metadata": {},
   "outputs": [
    {
     "data": {
      "text/plain": [
       "5.0    137202\n",
       "4.0     78335\n",
       "2.0     64089\n",
       "1.0     58689\n",
       "3.0     50428\n",
       "0.0     21257\n",
       "Name: Condicion_Salud_Ordenado, dtype: int64"
      ]
     },
     "execution_count": 52,
     "metadata": {},
     "output_type": "execute_result"
    }
   ],
   "source": [
    "#verifico que haya asignado el encoding acorde al orden de gravedad que le he pasado\n",
    "\n",
    "data['Condicion_Salud_Ordenado'].value_counts()"
   ]
  },
  {
   "cell_type": "code",
   "execution_count": 53,
   "metadata": {},
   "outputs": [
    {
     "data": {
      "text/html": [
       "<div>\n",
       "<style scoped>\n",
       "    .dataframe tbody tr th:only-of-type {\n",
       "        vertical-align: middle;\n",
       "    }\n",
       "\n",
       "    .dataframe tbody tr th {\n",
       "        vertical-align: top;\n",
       "    }\n",
       "\n",
       "    .dataframe thead th {\n",
       "        text-align: right;\n",
       "    }\n",
       "</style>\n",
       "<table border=\"1\" class=\"dataframe\">\n",
       "  <thead>\n",
       "    <tr style=\"text-align: right;\">\n",
       "      <th></th>\n",
       "      <th>Hab_Disponibles</th>\n",
       "      <th>Departamento</th>\n",
       "      <th>Codigo_Hab</th>\n",
       "      <th>Nombre_Medico</th>\n",
       "      <th>Staff_Disponible</th>\n",
       "      <th>IdPaciente</th>\n",
       "      <th>Rango_Etario</th>\n",
       "      <th>Genero</th>\n",
       "      <th>Tipo_Ingreso</th>\n",
       "      <th>Gravedad_Enfermedad</th>\n",
       "      <th>...</th>\n",
       "      <th>Female</th>\n",
       "      <th>Male</th>\n",
       "      <th>Other</th>\n",
       "      <th>Emergency</th>\n",
       "      <th>Trauma</th>\n",
       "      <th>Urgent</th>\n",
       "      <th>Sin_Seguro</th>\n",
       "      <th>Con_Seguro</th>\n",
       "      <th>Gravedad_Enfermedad_Ordenado</th>\n",
       "      <th>Condicion_Salud_Ordenado</th>\n",
       "    </tr>\n",
       "  </thead>\n",
       "  <tbody>\n",
       "    <tr>\n",
       "      <th>0</th>\n",
       "      <td>4</td>\n",
       "      <td>gynecology</td>\n",
       "      <td>D</td>\n",
       "      <td>Dr Sophia</td>\n",
       "      <td>0</td>\n",
       "      <td>33070</td>\n",
       "      <td>41-50</td>\n",
       "      <td>Female</td>\n",
       "      <td>Trauma</td>\n",
       "      <td>Extreme</td>\n",
       "      <td>...</td>\n",
       "      <td>1.0</td>\n",
       "      <td>0.0</td>\n",
       "      <td>0.0</td>\n",
       "      <td>0.0</td>\n",
       "      <td>1.0</td>\n",
       "      <td>0.0</td>\n",
       "      <td>0.0</td>\n",
       "      <td>1.0</td>\n",
       "      <td>0.0</td>\n",
       "      <td>1.0</td>\n",
       "    </tr>\n",
       "    <tr>\n",
       "      <th>1</th>\n",
       "      <td>4</td>\n",
       "      <td>gynecology</td>\n",
       "      <td>B</td>\n",
       "      <td>Dr Sophia</td>\n",
       "      <td>2</td>\n",
       "      <td>34808</td>\n",
       "      <td>31-40</td>\n",
       "      <td>Female</td>\n",
       "      <td>Trauma</td>\n",
       "      <td>Minor</td>\n",
       "      <td>...</td>\n",
       "      <td>1.0</td>\n",
       "      <td>0.0</td>\n",
       "      <td>0.0</td>\n",
       "      <td>0.0</td>\n",
       "      <td>1.0</td>\n",
       "      <td>0.0</td>\n",
       "      <td>1.0</td>\n",
       "      <td>0.0</td>\n",
       "      <td>2.0</td>\n",
       "      <td>0.0</td>\n",
       "    </tr>\n",
       "    <tr>\n",
       "      <th>2</th>\n",
       "      <td>2</td>\n",
       "      <td>gynecology</td>\n",
       "      <td>B</td>\n",
       "      <td>Dr Sophia</td>\n",
       "      <td>8</td>\n",
       "      <td>44577</td>\n",
       "      <td>21-30</td>\n",
       "      <td>Female</td>\n",
       "      <td>Trauma</td>\n",
       "      <td>Extreme</td>\n",
       "      <td>...</td>\n",
       "      <td>1.0</td>\n",
       "      <td>0.0</td>\n",
       "      <td>0.0</td>\n",
       "      <td>0.0</td>\n",
       "      <td>1.0</td>\n",
       "      <td>0.0</td>\n",
       "      <td>0.0</td>\n",
       "      <td>1.0</td>\n",
       "      <td>0.0</td>\n",
       "      <td>1.0</td>\n",
       "    </tr>\n",
       "    <tr>\n",
       "      <th>3</th>\n",
       "      <td>4</td>\n",
       "      <td>gynecology</td>\n",
       "      <td>D</td>\n",
       "      <td>Dr Olivia</td>\n",
       "      <td>7</td>\n",
       "      <td>3695</td>\n",
       "      <td>31-40</td>\n",
       "      <td>Female</td>\n",
       "      <td>Urgent</td>\n",
       "      <td>Moderate</td>\n",
       "      <td>...</td>\n",
       "      <td>1.0</td>\n",
       "      <td>0.0</td>\n",
       "      <td>0.0</td>\n",
       "      <td>0.0</td>\n",
       "      <td>0.0</td>\n",
       "      <td>1.0</td>\n",
       "      <td>1.0</td>\n",
       "      <td>0.0</td>\n",
       "      <td>1.0</td>\n",
       "      <td>5.0</td>\n",
       "    </tr>\n",
       "    <tr>\n",
       "      <th>4</th>\n",
       "      <td>2</td>\n",
       "      <td>anesthesia</td>\n",
       "      <td>E</td>\n",
       "      <td>Dr Mark</td>\n",
       "      <td>10</td>\n",
       "      <td>108956</td>\n",
       "      <td>71-80</td>\n",
       "      <td>Male</td>\n",
       "      <td>Trauma</td>\n",
       "      <td>Moderate</td>\n",
       "      <td>...</td>\n",
       "      <td>0.0</td>\n",
       "      <td>1.0</td>\n",
       "      <td>0.0</td>\n",
       "      <td>0.0</td>\n",
       "      <td>1.0</td>\n",
       "      <td>0.0</td>\n",
       "      <td>1.0</td>\n",
       "      <td>0.0</td>\n",
       "      <td>1.0</td>\n",
       "      <td>1.0</td>\n",
       "    </tr>\n",
       "  </tbody>\n",
       "</table>\n",
       "<p>5 rows × 25 columns</p>\n",
       "</div>"
      ],
      "text/plain": [
       "   Hab_Disponibles Departamento Codigo_Hab Nombre_Medico  Staff_Disponible  \\\n",
       "0                4   gynecology          D     Dr Sophia                 0   \n",
       "1                4   gynecology          B     Dr Sophia                 2   \n",
       "2                2   gynecology          B     Dr Sophia                 8   \n",
       "3                4   gynecology          D     Dr Olivia                 7   \n",
       "4                2   anesthesia          E       Dr Mark                10   \n",
       "\n",
       "   IdPaciente Rango_Etario  Genero Tipo_Ingreso Gravedad_Enfermedad  ...  \\\n",
       "0       33070        41-50  Female       Trauma             Extreme  ...   \n",
       "1       34808        31-40  Female       Trauma               Minor  ...   \n",
       "2       44577        21-30  Female       Trauma             Extreme  ...   \n",
       "3        3695        31-40  Female       Urgent            Moderate  ...   \n",
       "4      108956        71-80    Male       Trauma            Moderate  ...   \n",
       "\n",
       "  Female  Male Other  Emergency  Trauma  Urgent  Sin_Seguro  Con_Seguro  \\\n",
       "0    1.0   0.0   0.0        0.0     1.0     0.0         0.0         1.0   \n",
       "1    1.0   0.0   0.0        0.0     1.0     0.0         1.0         0.0   \n",
       "2    1.0   0.0   0.0        0.0     1.0     0.0         0.0         1.0   \n",
       "3    1.0   0.0   0.0        0.0     0.0     1.0         1.0         0.0   \n",
       "4    0.0   1.0   0.0        0.0     1.0     0.0         1.0         0.0   \n",
       "\n",
       "   Gravedad_Enfermedad_Ordenado  Condicion_Salud_Ordenado  \n",
       "0                           0.0                       1.0  \n",
       "1                           2.0                       0.0  \n",
       "2                           0.0                       1.0  \n",
       "3                           1.0                       5.0  \n",
       "4                           1.0                       1.0  \n",
       "\n",
       "[5 rows x 25 columns]"
      ]
     },
     "execution_count": 53,
     "metadata": {},
     "output_type": "execute_result"
    }
   ],
   "source": [
    "data.head()"
   ]
  },
  {
   "cell_type": "code",
   "execution_count": 54,
   "metadata": {},
   "outputs": [
    {
     "data": {
      "text/plain": [
       "['41-50',\n",
       " '31-40',\n",
       " '21-30',\n",
       " '71-80',\n",
       " '11-20',\n",
       " '51-60',\n",
       " '61-70',\n",
       " '81-90',\n",
       " '91-100',\n",
       " '0-10']"
      ]
     },
     "execution_count": 54,
     "metadata": {},
     "output_type": "execute_result"
    }
   ],
   "source": [
    "#codifico la columna Rango_Etario\n",
    "\n",
    "data['Rango_Etario'].unique().tolist()"
   ]
  },
  {
   "cell_type": "code",
   "execution_count": 55,
   "metadata": {},
   "outputs": [],
   "source": [
    "#creo mi lista de categorías en el orden que necesito\n",
    "\n",
    "Rango_Etario = ['0-10', '11-20', '21-30', '31-40', '41-50', '51-60', '61-70', '71-80', '81-90', '91-100']"
   ]
  },
  {
   "cell_type": "code",
   "execution_count": 56,
   "metadata": {},
   "outputs": [],
   "source": [
    "enc = OrdinalEncoder(categories=[Rango_Etario])"
   ]
  },
  {
   "cell_type": "code",
   "execution_count": 57,
   "metadata": {},
   "outputs": [],
   "source": [
    "data['Rango_Etario_Ordenado'] = enc.fit_transform(data[['Rango_Etario']])\n"
   ]
  },
  {
   "cell_type": "code",
   "execution_count": 58,
   "metadata": {},
   "outputs": [
    {
     "data": {
      "text/plain": [
       "21-30     135029\n",
       "31-40     106772\n",
       "41-50      65973\n",
       "11-20      36760\n",
       "61-70      21781\n",
       "51-60      17733\n",
       "71-80      15384\n",
       "81-90       6678\n",
       "0-10        2753\n",
       "91-100      1137\n",
       "Name: Rango_Etario, dtype: int64"
      ]
     },
     "execution_count": 58,
     "metadata": {},
     "output_type": "execute_result"
    }
   ],
   "source": [
    "data['Rango_Etario'].value_counts()"
   ]
  },
  {
   "cell_type": "code",
   "execution_count": 59,
   "metadata": {},
   "outputs": [
    {
     "data": {
      "text/plain": [
       "2.0    135029\n",
       "3.0    106772\n",
       "4.0     65973\n",
       "1.0     36760\n",
       "6.0     21781\n",
       "5.0     17733\n",
       "7.0     15384\n",
       "8.0      6678\n",
       "0.0      2753\n",
       "9.0      1137\n",
       "Name: Rango_Etario_Ordenado, dtype: int64"
      ]
     },
     "execution_count": 59,
     "metadata": {},
     "output_type": "execute_result"
    }
   ],
   "source": [
    "data['Rango_Etario_Ordenado'].value_counts()"
   ]
  },
  {
   "cell_type": "code",
   "execution_count": 60,
   "metadata": {},
   "outputs": [
    {
     "data": {
      "text/html": [
       "<div>\n",
       "<style scoped>\n",
       "    .dataframe tbody tr th:only-of-type {\n",
       "        vertical-align: middle;\n",
       "    }\n",
       "\n",
       "    .dataframe tbody tr th {\n",
       "        vertical-align: top;\n",
       "    }\n",
       "\n",
       "    .dataframe thead th {\n",
       "        text-align: right;\n",
       "    }\n",
       "</style>\n",
       "<table border=\"1\" class=\"dataframe\">\n",
       "  <thead>\n",
       "    <tr style=\"text-align: right;\">\n",
       "      <th></th>\n",
       "      <th>Hab_Disponibles</th>\n",
       "      <th>Departamento</th>\n",
       "      <th>Codigo_Hab</th>\n",
       "      <th>Nombre_Medico</th>\n",
       "      <th>Staff_Disponible</th>\n",
       "      <th>IdPaciente</th>\n",
       "      <th>Rango_Etario</th>\n",
       "      <th>Genero</th>\n",
       "      <th>Tipo_Ingreso</th>\n",
       "      <th>Gravedad_Enfermedad</th>\n",
       "      <th>...</th>\n",
       "      <th>Male</th>\n",
       "      <th>Other</th>\n",
       "      <th>Emergency</th>\n",
       "      <th>Trauma</th>\n",
       "      <th>Urgent</th>\n",
       "      <th>Sin_Seguro</th>\n",
       "      <th>Con_Seguro</th>\n",
       "      <th>Gravedad_Enfermedad_Ordenado</th>\n",
       "      <th>Condicion_Salud_Ordenado</th>\n",
       "      <th>Rango_Etario_Ordenado</th>\n",
       "    </tr>\n",
       "  </thead>\n",
       "  <tbody>\n",
       "    <tr>\n",
       "      <th>0</th>\n",
       "      <td>4</td>\n",
       "      <td>gynecology</td>\n",
       "      <td>D</td>\n",
       "      <td>Dr Sophia</td>\n",
       "      <td>0</td>\n",
       "      <td>33070</td>\n",
       "      <td>41-50</td>\n",
       "      <td>Female</td>\n",
       "      <td>Trauma</td>\n",
       "      <td>Extreme</td>\n",
       "      <td>...</td>\n",
       "      <td>0.0</td>\n",
       "      <td>0.0</td>\n",
       "      <td>0.0</td>\n",
       "      <td>1.0</td>\n",
       "      <td>0.0</td>\n",
       "      <td>0.0</td>\n",
       "      <td>1.0</td>\n",
       "      <td>0.0</td>\n",
       "      <td>1.0</td>\n",
       "      <td>4.0</td>\n",
       "    </tr>\n",
       "    <tr>\n",
       "      <th>1</th>\n",
       "      <td>4</td>\n",
       "      <td>gynecology</td>\n",
       "      <td>B</td>\n",
       "      <td>Dr Sophia</td>\n",
       "      <td>2</td>\n",
       "      <td>34808</td>\n",
       "      <td>31-40</td>\n",
       "      <td>Female</td>\n",
       "      <td>Trauma</td>\n",
       "      <td>Minor</td>\n",
       "      <td>...</td>\n",
       "      <td>0.0</td>\n",
       "      <td>0.0</td>\n",
       "      <td>0.0</td>\n",
       "      <td>1.0</td>\n",
       "      <td>0.0</td>\n",
       "      <td>1.0</td>\n",
       "      <td>0.0</td>\n",
       "      <td>2.0</td>\n",
       "      <td>0.0</td>\n",
       "      <td>3.0</td>\n",
       "    </tr>\n",
       "    <tr>\n",
       "      <th>2</th>\n",
       "      <td>2</td>\n",
       "      <td>gynecology</td>\n",
       "      <td>B</td>\n",
       "      <td>Dr Sophia</td>\n",
       "      <td>8</td>\n",
       "      <td>44577</td>\n",
       "      <td>21-30</td>\n",
       "      <td>Female</td>\n",
       "      <td>Trauma</td>\n",
       "      <td>Extreme</td>\n",
       "      <td>...</td>\n",
       "      <td>0.0</td>\n",
       "      <td>0.0</td>\n",
       "      <td>0.0</td>\n",
       "      <td>1.0</td>\n",
       "      <td>0.0</td>\n",
       "      <td>0.0</td>\n",
       "      <td>1.0</td>\n",
       "      <td>0.0</td>\n",
       "      <td>1.0</td>\n",
       "      <td>2.0</td>\n",
       "    </tr>\n",
       "    <tr>\n",
       "      <th>3</th>\n",
       "      <td>4</td>\n",
       "      <td>gynecology</td>\n",
       "      <td>D</td>\n",
       "      <td>Dr Olivia</td>\n",
       "      <td>7</td>\n",
       "      <td>3695</td>\n",
       "      <td>31-40</td>\n",
       "      <td>Female</td>\n",
       "      <td>Urgent</td>\n",
       "      <td>Moderate</td>\n",
       "      <td>...</td>\n",
       "      <td>0.0</td>\n",
       "      <td>0.0</td>\n",
       "      <td>0.0</td>\n",
       "      <td>0.0</td>\n",
       "      <td>1.0</td>\n",
       "      <td>1.0</td>\n",
       "      <td>0.0</td>\n",
       "      <td>1.0</td>\n",
       "      <td>5.0</td>\n",
       "      <td>3.0</td>\n",
       "    </tr>\n",
       "    <tr>\n",
       "      <th>4</th>\n",
       "      <td>2</td>\n",
       "      <td>anesthesia</td>\n",
       "      <td>E</td>\n",
       "      <td>Dr Mark</td>\n",
       "      <td>10</td>\n",
       "      <td>108956</td>\n",
       "      <td>71-80</td>\n",
       "      <td>Male</td>\n",
       "      <td>Trauma</td>\n",
       "      <td>Moderate</td>\n",
       "      <td>...</td>\n",
       "      <td>1.0</td>\n",
       "      <td>0.0</td>\n",
       "      <td>0.0</td>\n",
       "      <td>1.0</td>\n",
       "      <td>0.0</td>\n",
       "      <td>1.0</td>\n",
       "      <td>0.0</td>\n",
       "      <td>1.0</td>\n",
       "      <td>1.0</td>\n",
       "      <td>7.0</td>\n",
       "    </tr>\n",
       "  </tbody>\n",
       "</table>\n",
       "<p>5 rows × 26 columns</p>\n",
       "</div>"
      ],
      "text/plain": [
       "   Hab_Disponibles Departamento Codigo_Hab Nombre_Medico  Staff_Disponible  \\\n",
       "0                4   gynecology          D     Dr Sophia                 0   \n",
       "1                4   gynecology          B     Dr Sophia                 2   \n",
       "2                2   gynecology          B     Dr Sophia                 8   \n",
       "3                4   gynecology          D     Dr Olivia                 7   \n",
       "4                2   anesthesia          E       Dr Mark                10   \n",
       "\n",
       "   IdPaciente Rango_Etario  Genero Tipo_Ingreso Gravedad_Enfermedad  ... Male  \\\n",
       "0       33070        41-50  Female       Trauma             Extreme  ...  0.0   \n",
       "1       34808        31-40  Female       Trauma               Minor  ...  0.0   \n",
       "2       44577        21-30  Female       Trauma             Extreme  ...  0.0   \n",
       "3        3695        31-40  Female       Urgent            Moderate  ...  0.0   \n",
       "4      108956        71-80    Male       Trauma            Moderate  ...  1.0   \n",
       "\n",
       "   Other Emergency  Trauma  Urgent  Sin_Seguro  Con_Seguro  \\\n",
       "0    0.0       0.0     1.0     0.0         0.0         1.0   \n",
       "1    0.0       0.0     1.0     0.0         1.0         0.0   \n",
       "2    0.0       0.0     1.0     0.0         0.0         1.0   \n",
       "3    0.0       0.0     0.0     1.0         1.0         0.0   \n",
       "4    0.0       0.0     1.0     0.0         1.0         0.0   \n",
       "\n",
       "   Gravedad_Enfermedad_Ordenado  Condicion_Salud_Ordenado  \\\n",
       "0                           0.0                       1.0   \n",
       "1                           2.0                       0.0   \n",
       "2                           0.0                       1.0   \n",
       "3                           1.0                       5.0   \n",
       "4                           1.0                       1.0   \n",
       "\n",
       "   Rango_Etario_Ordenado  \n",
       "0                    4.0  \n",
       "1                    3.0  \n",
       "2                    2.0  \n",
       "3                    3.0  \n",
       "4                    7.0  \n",
       "\n",
       "[5 rows x 26 columns]"
      ]
     },
     "execution_count": 60,
     "metadata": {},
     "output_type": "execute_result"
    }
   ],
   "source": [
    "data.head()"
   ]
  },
  {
   "attachments": {},
   "cell_type": "markdown",
   "metadata": {},
   "source": [
    "# `Elaboración de Modelo ML`\n",
    "![green-divider](https://user-images.githubusercontent.com/7065401/52071924-c003ad80-2562-11e9-8297-1c6595f8a7ff.png)"
   ]
  },
  {
   "attachments": {},
   "cell_type": "markdown",
   "metadata": {},
   "source": [
    "- #### **Selección de Features relevantes.**"
   ]
  },
  {
   "cell_type": "code",
   "execution_count": 61,
   "metadata": {},
   "outputs": [
    {
     "data": {
      "text/plain": [
       "Hab_Disponibles                   int64\n",
       "Departamento                     object\n",
       "Codigo_Hab                       object\n",
       "Nombre_Medico                    object\n",
       "Staff_Disponible                  int64\n",
       "IdPaciente                        int64\n",
       "Rango_Etario                     object\n",
       "Genero                           object\n",
       "Tipo_Ingreso                     object\n",
       "Gravedad_Enfermedad              object\n",
       "Condicion_Salud                  object\n",
       "Visitantes                        int64\n",
       "Seguro                           object\n",
       "Deposito_Ingreso                float64\n",
       "Estadia                           int64\n",
       "Female                          float64\n",
       "Male                            float64\n",
       "Other                           float64\n",
       "Emergency                       float64\n",
       "Trauma                          float64\n",
       "Urgent                          float64\n",
       "Sin_Seguro                      float64\n",
       "Con_Seguro                      float64\n",
       "Gravedad_Enfermedad_Ordenado    float64\n",
       "Condicion_Salud_Ordenado        float64\n",
       "Rango_Etario_Ordenado           float64\n",
       "dtype: object"
      ]
     },
     "execution_count": 61,
     "metadata": {},
     "output_type": "execute_result"
    }
   ],
   "source": [
    "data.dtypes"
   ]
  },
  {
   "attachments": {},
   "cell_type": "markdown",
   "metadata": {},
   "source": [
    "- #### **Creo otro DataFrame 'data2', con las columnas que necesito .**\n",
    "\n",
    "No elimino columnas ni borro mi dataframe anterior por si llegara a necesitar cierta información anterior a mi nuevo DataFrame."
   ]
  },
  {
   "cell_type": "code",
   "execution_count": 62,
   "metadata": {},
   "outputs": [],
   "source": [
    "data2 = data[['Hab_Disponibles', 'Departamento', 'Codigo_Hab', 'Nombre_Medico', 'Staff_Disponible', 'Rango_Etario_Ordenado', 'Female', 'Male',\n",
    "             'Other', 'Emergency', 'Trauma', 'Urgent', 'Gravedad_Enfermedad_Ordenado', 'Condicion_Salud_Ordenado', 'Visitantes', 'Con_Seguro', 'Sin_Seguro', 'Deposito_Ingreso', 'Estadia']]"
   ]
  },
  {
   "cell_type": "code",
   "execution_count": 63,
   "metadata": {},
   "outputs": [
    {
     "data": {
      "text/html": [
       "<div>\n",
       "<style scoped>\n",
       "    .dataframe tbody tr th:only-of-type {\n",
       "        vertical-align: middle;\n",
       "    }\n",
       "\n",
       "    .dataframe tbody tr th {\n",
       "        vertical-align: top;\n",
       "    }\n",
       "\n",
       "    .dataframe thead th {\n",
       "        text-align: right;\n",
       "    }\n",
       "</style>\n",
       "<table border=\"1\" class=\"dataframe\">\n",
       "  <thead>\n",
       "    <tr style=\"text-align: right;\">\n",
       "      <th></th>\n",
       "      <th>Hab_Disponibles</th>\n",
       "      <th>Departamento</th>\n",
       "      <th>Codigo_Hab</th>\n",
       "      <th>Nombre_Medico</th>\n",
       "      <th>Staff_Disponible</th>\n",
       "      <th>Rango_Etario_Ordenado</th>\n",
       "      <th>Female</th>\n",
       "      <th>Male</th>\n",
       "      <th>Other</th>\n",
       "      <th>Emergency</th>\n",
       "      <th>Trauma</th>\n",
       "      <th>Urgent</th>\n",
       "      <th>Gravedad_Enfermedad_Ordenado</th>\n",
       "      <th>Condicion_Salud_Ordenado</th>\n",
       "      <th>Visitantes</th>\n",
       "      <th>Con_Seguro</th>\n",
       "      <th>Sin_Seguro</th>\n",
       "      <th>Deposito_Ingreso</th>\n",
       "      <th>Estadia</th>\n",
       "    </tr>\n",
       "  </thead>\n",
       "  <tbody>\n",
       "    <tr>\n",
       "      <th>0</th>\n",
       "      <td>4</td>\n",
       "      <td>gynecology</td>\n",
       "      <td>D</td>\n",
       "      <td>Dr Sophia</td>\n",
       "      <td>0</td>\n",
       "      <td>4.0</td>\n",
       "      <td>1.0</td>\n",
       "      <td>0.0</td>\n",
       "      <td>0.0</td>\n",
       "      <td>0.0</td>\n",
       "      <td>1.0</td>\n",
       "      <td>0.0</td>\n",
       "      <td>0.0</td>\n",
       "      <td>1.0</td>\n",
       "      <td>4</td>\n",
       "      <td>1.0</td>\n",
       "      <td>0.0</td>\n",
       "      <td>2966.408696</td>\n",
       "      <td>8</td>\n",
       "    </tr>\n",
       "    <tr>\n",
       "      <th>1</th>\n",
       "      <td>4</td>\n",
       "      <td>gynecology</td>\n",
       "      <td>B</td>\n",
       "      <td>Dr Sophia</td>\n",
       "      <td>2</td>\n",
       "      <td>3.0</td>\n",
       "      <td>1.0</td>\n",
       "      <td>0.0</td>\n",
       "      <td>0.0</td>\n",
       "      <td>0.0</td>\n",
       "      <td>1.0</td>\n",
       "      <td>0.0</td>\n",
       "      <td>2.0</td>\n",
       "      <td>0.0</td>\n",
       "      <td>2</td>\n",
       "      <td>0.0</td>\n",
       "      <td>1.0</td>\n",
       "      <td>3554.835677</td>\n",
       "      <td>9</td>\n",
       "    </tr>\n",
       "    <tr>\n",
       "      <th>2</th>\n",
       "      <td>2</td>\n",
       "      <td>gynecology</td>\n",
       "      <td>B</td>\n",
       "      <td>Dr Sophia</td>\n",
       "      <td>8</td>\n",
       "      <td>2.0</td>\n",
       "      <td>1.0</td>\n",
       "      <td>0.0</td>\n",
       "      <td>0.0</td>\n",
       "      <td>0.0</td>\n",
       "      <td>1.0</td>\n",
       "      <td>0.0</td>\n",
       "      <td>0.0</td>\n",
       "      <td>1.0</td>\n",
       "      <td>2</td>\n",
       "      <td>1.0</td>\n",
       "      <td>0.0</td>\n",
       "      <td>5624.733654</td>\n",
       "      <td>7</td>\n",
       "    </tr>\n",
       "    <tr>\n",
       "      <th>3</th>\n",
       "      <td>4</td>\n",
       "      <td>gynecology</td>\n",
       "      <td>D</td>\n",
       "      <td>Dr Olivia</td>\n",
       "      <td>7</td>\n",
       "      <td>3.0</td>\n",
       "      <td>1.0</td>\n",
       "      <td>0.0</td>\n",
       "      <td>0.0</td>\n",
       "      <td>0.0</td>\n",
       "      <td>0.0</td>\n",
       "      <td>1.0</td>\n",
       "      <td>1.0</td>\n",
       "      <td>5.0</td>\n",
       "      <td>4</td>\n",
       "      <td>0.0</td>\n",
       "      <td>1.0</td>\n",
       "      <td>4814.149231</td>\n",
       "      <td>8</td>\n",
       "    </tr>\n",
       "    <tr>\n",
       "      <th>4</th>\n",
       "      <td>2</td>\n",
       "      <td>anesthesia</td>\n",
       "      <td>E</td>\n",
       "      <td>Dr Mark</td>\n",
       "      <td>10</td>\n",
       "      <td>7.0</td>\n",
       "      <td>0.0</td>\n",
       "      <td>1.0</td>\n",
       "      <td>0.0</td>\n",
       "      <td>0.0</td>\n",
       "      <td>1.0</td>\n",
       "      <td>0.0</td>\n",
       "      <td>1.0</td>\n",
       "      <td>1.0</td>\n",
       "      <td>2</td>\n",
       "      <td>0.0</td>\n",
       "      <td>1.0</td>\n",
       "      <td>5169.269637</td>\n",
       "      <td>34</td>\n",
       "    </tr>\n",
       "  </tbody>\n",
       "</table>\n",
       "</div>"
      ],
      "text/plain": [
       "   Hab_Disponibles Departamento Codigo_Hab Nombre_Medico  Staff_Disponible  \\\n",
       "0                4   gynecology          D     Dr Sophia                 0   \n",
       "1                4   gynecology          B     Dr Sophia                 2   \n",
       "2                2   gynecology          B     Dr Sophia                 8   \n",
       "3                4   gynecology          D     Dr Olivia                 7   \n",
       "4                2   anesthesia          E       Dr Mark                10   \n",
       "\n",
       "   Rango_Etario_Ordenado  Female  Male  Other  Emergency  Trauma  Urgent  \\\n",
       "0                    4.0     1.0   0.0    0.0        0.0     1.0     0.0   \n",
       "1                    3.0     1.0   0.0    0.0        0.0     1.0     0.0   \n",
       "2                    2.0     1.0   0.0    0.0        0.0     1.0     0.0   \n",
       "3                    3.0     1.0   0.0    0.0        0.0     0.0     1.0   \n",
       "4                    7.0     0.0   1.0    0.0        0.0     1.0     0.0   \n",
       "\n",
       "   Gravedad_Enfermedad_Ordenado  Condicion_Salud_Ordenado  Visitantes  \\\n",
       "0                           0.0                       1.0           4   \n",
       "1                           2.0                       0.0           2   \n",
       "2                           0.0                       1.0           2   \n",
       "3                           1.0                       5.0           4   \n",
       "4                           1.0                       1.0           2   \n",
       "\n",
       "   Con_Seguro  Sin_Seguro  Deposito_Ingreso  Estadia  \n",
       "0         1.0         0.0       2966.408696        8  \n",
       "1         0.0         1.0       3554.835677        9  \n",
       "2         1.0         0.0       5624.733654        7  \n",
       "3         0.0         1.0       4814.149231        8  \n",
       "4         0.0         1.0       5169.269637       34  "
      ]
     },
     "execution_count": 63,
     "metadata": {},
     "output_type": "execute_result"
    }
   ],
   "source": [
    "data2.head()"
   ]
  },
  {
   "cell_type": "code",
   "execution_count": 64,
   "metadata": {},
   "outputs": [
    {
     "name": "stdout",
     "output_type": "stream",
     "text": [
      "<class 'pandas.core.frame.DataFrame'>\n",
      "RangeIndex: 410000 entries, 0 to 409999\n",
      "Data columns (total 19 columns):\n",
      " #   Column                        Non-Null Count   Dtype  \n",
      "---  ------                        --------------   -----  \n",
      " 0   Hab_Disponibles               410000 non-null  int64  \n",
      " 1   Departamento                  410000 non-null  object \n",
      " 2   Codigo_Hab                    410000 non-null  object \n",
      " 3   Nombre_Medico                 410000 non-null  object \n",
      " 4   Staff_Disponible              410000 non-null  int64  \n",
      " 5   Rango_Etario_Ordenado         410000 non-null  float64\n",
      " 6   Female                        410000 non-null  float64\n",
      " 7   Male                          410000 non-null  float64\n",
      " 8   Other                         410000 non-null  float64\n",
      " 9   Emergency                     410000 non-null  float64\n",
      " 10  Trauma                        410000 non-null  float64\n",
      " 11  Urgent                        410000 non-null  float64\n",
      " 12  Gravedad_Enfermedad_Ordenado  410000 non-null  float64\n",
      " 13  Condicion_Salud_Ordenado      410000 non-null  float64\n",
      " 14  Visitantes                    410000 non-null  int64  \n",
      " 15  Con_Seguro                    410000 non-null  float64\n",
      " 16  Sin_Seguro                    410000 non-null  float64\n",
      " 17  Deposito_Ingreso              410000 non-null  float64\n",
      " 18  Estadia                       410000 non-null  int64  \n",
      "dtypes: float64(12), int64(4), object(3)\n",
      "memory usage: 59.4+ MB\n"
     ]
    }
   ],
   "source": [
    "data2.info()"
   ]
  },
  {
   "attachments": {},
   "cell_type": "markdown",
   "metadata": {},
   "source": [
    "- #### **Agrego una nueva columna a mi nuevo DataFrame, que será el _Target_ de mi modelo, basado en la columna 'Estadia'.**"
   ]
  },
  {
   "cell_type": "code",
   "execution_count": 65,
   "metadata": {},
   "outputs": [
    {
     "name": "stderr",
     "output_type": "stream",
     "text": [
      "C:\\Users\\Nohemí\\AppData\\Local\\Temp\\ipykernel_7280\\3798268883.py:3: SettingWithCopyWarning: \n",
      "A value is trying to be set on a copy of a slice from a DataFrame.\n",
      "Try using .loc[row_indexer,col_indexer] = value instead\n",
      "\n",
      "See the caveats in the documentation: https://pandas.pydata.org/pandas-docs/stable/user_guide/indexing.html#returning-a-view-versus-a-copy\n",
      "  data2['Estadia_Prolongada'] = 0\n"
     ]
    }
   ],
   "source": [
    "#Nueva columna con valor por defecto cero\n",
    "\n",
    "data2['Estadia_Prolongada'] = 0"
   ]
  },
  {
   "attachments": {},
   "cell_type": "markdown",
   "metadata": {},
   "source": [
    "#### Filtro aquellos valores cuyo valor sea mayor a 8 en la columna `Estadia`, y cambio el valor a 1 en la columna `Estadia_Prolongada`"
   ]
  },
  {
   "cell_type": "code",
   "execution_count": 66,
   "metadata": {},
   "outputs": [
    {
     "name": "stderr",
     "output_type": "stream",
     "text": [
      "c:\\MisProgramas\\Python\\lib\\site-packages\\pandas\\core\\indexing.py:1817: SettingWithCopyWarning: \n",
      "A value is trying to be set on a copy of a slice from a DataFrame.\n",
      "Try using .loc[row_indexer,col_indexer] = value instead\n",
      "\n",
      "See the caveats in the documentation: https://pandas.pydata.org/pandas-docs/stable/user_guide/indexing.html#returning-a-view-versus-a-copy\n",
      "  self._setitem_single_column(loc, value, pi)\n"
     ]
    }
   ],
   "source": [
    "data2.loc[data2['Estadia']>8, 'Estadia_Prolongada'] = 1"
   ]
  },
  {
   "cell_type": "code",
   "execution_count": 67,
   "metadata": {},
   "outputs": [
    {
     "name": "stdout",
     "output_type": "stream",
     "text": [
      "cantidad de registros con Estadía mayor a 8 días:  ==========>  255416\n",
      "cantidad de registros con Estadía menor o igual a 8 días:  ==========>  154584\n"
     ]
    }
   ],
   "source": [
    "#verifico la cantidad de ceros y unos que debería tener mi nueva columna 'Estadia_Prolongada'\n",
    "\n",
    "print('cantidad de registros con Estadía mayor a 8 días: ', data2[data2['Estadia']>8]['Estadia'].count(), sep=' ==========>  ')\n",
    "print('cantidad de registros con Estadía menor o igual a 8 días: ', data2[data2['Estadia']<=8]['Estadia'].count(), sep=' ==========>  ')"
   ]
  },
  {
   "cell_type": "code",
   "execution_count": 68,
   "metadata": {},
   "outputs": [
    {
     "data": {
      "text/plain": [
       "1    255416\n",
       "0    154584\n",
       "Name: Estadia_Prolongada, dtype: int64"
      ]
     },
     "execution_count": 68,
     "metadata": {},
     "output_type": "execute_result"
    }
   ],
   "source": [
    "#Verifico si coinciden mis datos con el print de arriba.\n",
    "\n",
    "data2['Estadia_Prolongada'].value_counts()"
   ]
  },
  {
   "cell_type": "code",
   "execution_count": 69,
   "metadata": {},
   "outputs": [
    {
     "data": {
      "text/html": [
       "<div>\n",
       "<style scoped>\n",
       "    .dataframe tbody tr th:only-of-type {\n",
       "        vertical-align: middle;\n",
       "    }\n",
       "\n",
       "    .dataframe tbody tr th {\n",
       "        vertical-align: top;\n",
       "    }\n",
       "\n",
       "    .dataframe thead th {\n",
       "        text-align: right;\n",
       "    }\n",
       "</style>\n",
       "<table border=\"1\" class=\"dataframe\">\n",
       "  <thead>\n",
       "    <tr style=\"text-align: right;\">\n",
       "      <th></th>\n",
       "      <th>Hab_Disponibles</th>\n",
       "      <th>Departamento</th>\n",
       "      <th>Codigo_Hab</th>\n",
       "      <th>Nombre_Medico</th>\n",
       "      <th>Staff_Disponible</th>\n",
       "      <th>Rango_Etario_Ordenado</th>\n",
       "      <th>Female</th>\n",
       "      <th>Male</th>\n",
       "      <th>Other</th>\n",
       "      <th>Emergency</th>\n",
       "      <th>Trauma</th>\n",
       "      <th>Urgent</th>\n",
       "      <th>Gravedad_Enfermedad_Ordenado</th>\n",
       "      <th>Condicion_Salud_Ordenado</th>\n",
       "      <th>Visitantes</th>\n",
       "      <th>Con_Seguro</th>\n",
       "      <th>Sin_Seguro</th>\n",
       "      <th>Deposito_Ingreso</th>\n",
       "      <th>Estadia</th>\n",
       "      <th>Estadia_Prolongada</th>\n",
       "    </tr>\n",
       "  </thead>\n",
       "  <tbody>\n",
       "    <tr>\n",
       "      <th>0</th>\n",
       "      <td>4</td>\n",
       "      <td>gynecology</td>\n",
       "      <td>D</td>\n",
       "      <td>Dr Sophia</td>\n",
       "      <td>0</td>\n",
       "      <td>4.0</td>\n",
       "      <td>1.0</td>\n",
       "      <td>0.0</td>\n",
       "      <td>0.0</td>\n",
       "      <td>0.0</td>\n",
       "      <td>1.0</td>\n",
       "      <td>0.0</td>\n",
       "      <td>0.0</td>\n",
       "      <td>1.0</td>\n",
       "      <td>4</td>\n",
       "      <td>1.0</td>\n",
       "      <td>0.0</td>\n",
       "      <td>2966.408696</td>\n",
       "      <td>8</td>\n",
       "      <td>0</td>\n",
       "    </tr>\n",
       "    <tr>\n",
       "      <th>1</th>\n",
       "      <td>4</td>\n",
       "      <td>gynecology</td>\n",
       "      <td>B</td>\n",
       "      <td>Dr Sophia</td>\n",
       "      <td>2</td>\n",
       "      <td>3.0</td>\n",
       "      <td>1.0</td>\n",
       "      <td>0.0</td>\n",
       "      <td>0.0</td>\n",
       "      <td>0.0</td>\n",
       "      <td>1.0</td>\n",
       "      <td>0.0</td>\n",
       "      <td>2.0</td>\n",
       "      <td>0.0</td>\n",
       "      <td>2</td>\n",
       "      <td>0.0</td>\n",
       "      <td>1.0</td>\n",
       "      <td>3554.835677</td>\n",
       "      <td>9</td>\n",
       "      <td>1</td>\n",
       "    </tr>\n",
       "    <tr>\n",
       "      <th>2</th>\n",
       "      <td>2</td>\n",
       "      <td>gynecology</td>\n",
       "      <td>B</td>\n",
       "      <td>Dr Sophia</td>\n",
       "      <td>8</td>\n",
       "      <td>2.0</td>\n",
       "      <td>1.0</td>\n",
       "      <td>0.0</td>\n",
       "      <td>0.0</td>\n",
       "      <td>0.0</td>\n",
       "      <td>1.0</td>\n",
       "      <td>0.0</td>\n",
       "      <td>0.0</td>\n",
       "      <td>1.0</td>\n",
       "      <td>2</td>\n",
       "      <td>1.0</td>\n",
       "      <td>0.0</td>\n",
       "      <td>5624.733654</td>\n",
       "      <td>7</td>\n",
       "      <td>0</td>\n",
       "    </tr>\n",
       "    <tr>\n",
       "      <th>3</th>\n",
       "      <td>4</td>\n",
       "      <td>gynecology</td>\n",
       "      <td>D</td>\n",
       "      <td>Dr Olivia</td>\n",
       "      <td>7</td>\n",
       "      <td>3.0</td>\n",
       "      <td>1.0</td>\n",
       "      <td>0.0</td>\n",
       "      <td>0.0</td>\n",
       "      <td>0.0</td>\n",
       "      <td>0.0</td>\n",
       "      <td>1.0</td>\n",
       "      <td>1.0</td>\n",
       "      <td>5.0</td>\n",
       "      <td>4</td>\n",
       "      <td>0.0</td>\n",
       "      <td>1.0</td>\n",
       "      <td>4814.149231</td>\n",
       "      <td>8</td>\n",
       "      <td>0</td>\n",
       "    </tr>\n",
       "    <tr>\n",
       "      <th>4</th>\n",
       "      <td>2</td>\n",
       "      <td>anesthesia</td>\n",
       "      <td>E</td>\n",
       "      <td>Dr Mark</td>\n",
       "      <td>10</td>\n",
       "      <td>7.0</td>\n",
       "      <td>0.0</td>\n",
       "      <td>1.0</td>\n",
       "      <td>0.0</td>\n",
       "      <td>0.0</td>\n",
       "      <td>1.0</td>\n",
       "      <td>0.0</td>\n",
       "      <td>1.0</td>\n",
       "      <td>1.0</td>\n",
       "      <td>2</td>\n",
       "      <td>0.0</td>\n",
       "      <td>1.0</td>\n",
       "      <td>5169.269637</td>\n",
       "      <td>34</td>\n",
       "      <td>1</td>\n",
       "    </tr>\n",
       "  </tbody>\n",
       "</table>\n",
       "</div>"
      ],
      "text/plain": [
       "   Hab_Disponibles Departamento Codigo_Hab Nombre_Medico  Staff_Disponible  \\\n",
       "0                4   gynecology          D     Dr Sophia                 0   \n",
       "1                4   gynecology          B     Dr Sophia                 2   \n",
       "2                2   gynecology          B     Dr Sophia                 8   \n",
       "3                4   gynecology          D     Dr Olivia                 7   \n",
       "4                2   anesthesia          E       Dr Mark                10   \n",
       "\n",
       "   Rango_Etario_Ordenado  Female  Male  Other  Emergency  Trauma  Urgent  \\\n",
       "0                    4.0     1.0   0.0    0.0        0.0     1.0     0.0   \n",
       "1                    3.0     1.0   0.0    0.0        0.0     1.0     0.0   \n",
       "2                    2.0     1.0   0.0    0.0        0.0     1.0     0.0   \n",
       "3                    3.0     1.0   0.0    0.0        0.0     0.0     1.0   \n",
       "4                    7.0     0.0   1.0    0.0        0.0     1.0     0.0   \n",
       "\n",
       "   Gravedad_Enfermedad_Ordenado  Condicion_Salud_Ordenado  Visitantes  \\\n",
       "0                           0.0                       1.0           4   \n",
       "1                           2.0                       0.0           2   \n",
       "2                           0.0                       1.0           2   \n",
       "3                           1.0                       5.0           4   \n",
       "4                           1.0                       1.0           2   \n",
       "\n",
       "   Con_Seguro  Sin_Seguro  Deposito_Ingreso  Estadia  Estadia_Prolongada  \n",
       "0         1.0         0.0       2966.408696        8                   0  \n",
       "1         0.0         1.0       3554.835677        9                   1  \n",
       "2         1.0         0.0       5624.733654        7                   0  \n",
       "3         0.0         1.0       4814.149231        8                   0  \n",
       "4         0.0         1.0       5169.269637       34                   1  "
      ]
     },
     "execution_count": 69,
     "metadata": {},
     "output_type": "execute_result"
    }
   ],
   "source": [
    "data2.head()"
   ]
  },
  {
   "attachments": {},
   "cell_type": "markdown",
   "metadata": {},
   "source": [
    "- Guardo mi nuevo DataFrame ya con las modificaciones que considero necesarias, para futuras pruebas y no tener que volver a hacer todo el proceso."
   ]
  },
  {
   "cell_type": "code",
   "execution_count": 70,
   "metadata": {},
   "outputs": [],
   "source": [
    "data2.to_csv('./Datasets/hospitalizaciones_codificado.csv', index=False)"
   ]
  },
  {
   "attachments": {},
   "cell_type": "markdown",
   "metadata": {},
   "source": [
    "#### **Creamos las variables dependiente e independiente.**"
   ]
  },
  {
   "attachments": {},
   "cell_type": "markdown",
   "metadata": {},
   "source": [
    "- ##### A mi Variable X (mayúscula porque serán varias features), le pasaré el índice de las columnas que usaré para el modelo\n",
    "- ##### A mi Variable y, le pasaré el índice de la columna _Target_"
   ]
  },
  {
   "cell_type": "code",
   "execution_count": 81,
   "metadata": {},
   "outputs": [
    {
     "name": "stdout",
     "output_type": "stream",
     "text": [
      "<class 'pandas.core.frame.DataFrame'>\n",
      "RangeIndex: 410000 entries, 0 to 409999\n",
      "Data columns (total 20 columns):\n",
      " #   Column                        Non-Null Count   Dtype  \n",
      "---  ------                        --------------   -----  \n",
      " 0   Hab_Disponibles               410000 non-null  int64  \n",
      " 1   Departamento                  410000 non-null  object \n",
      " 2   Codigo_Hab                    410000 non-null  object \n",
      " 3   Nombre_Medico                 410000 non-null  object \n",
      " 4   Staff_Disponible              410000 non-null  int64  \n",
      " 5   Rango_Etario_Ordenado         410000 non-null  float64\n",
      " 6   Female                        410000 non-null  float64\n",
      " 7   Male                          410000 non-null  float64\n",
      " 8   Other                         410000 non-null  float64\n",
      " 9   Emergency                     410000 non-null  float64\n",
      " 10  Trauma                        410000 non-null  float64\n",
      " 11  Urgent                        410000 non-null  float64\n",
      " 12  Gravedad_Enfermedad_Ordenado  410000 non-null  float64\n",
      " 13  Condicion_Salud_Ordenado      410000 non-null  float64\n",
      " 14  Visitantes                    410000 non-null  int64  \n",
      " 15  Con_Seguro                    410000 non-null  float64\n",
      " 16  Sin_Seguro                    410000 non-null  float64\n",
      " 17  Deposito_Ingreso              410000 non-null  float64\n",
      " 18  Estadia                       410000 non-null  int64  \n",
      " 19  Estadia_Prolongada            410000 non-null  int64  \n",
      "dtypes: float64(12), int64(5), object(3)\n",
      "memory usage: 62.6+ MB\n"
     ]
    }
   ],
   "source": [
    "data2.info()"
   ]
  },
  {
   "attachments": {},
   "cell_type": "markdown",
   "metadata": {},
   "source": [
    "#### Escojo las columnas que considero que aportan a la predicción:\n",
    "- Hab_Disponibles: esta columna es importante ya que de no haber habitaciones disponibles los pacientes no se quedarán por largo tiempo\n",
    "- Staff_Disponible: el personal es vital, si no hay entonces los pacientes podrían irse\n",
    "- Rango_Etario_Ordenado: considero que niños y personas mayores tienden a quedarse más tiempo hospitalizados\n",
    "- Female: el género puede ser un factor importante\n",
    "- Male: el género puede ser un factor importante\n",
    "- Other: el género puede ser un factor importante\n",
    "- Emergency: una emergencia puede o no convertirse en una estadía prolongada\n",
    "- Trauma: un hueso roto por ejemplo puede o no convertirse en una estadía prolongada\n",
    "- Urgent: una urgencia por definición no es tan grave, asi que puede influir en que el paciente no se quede\n",
    "- Gravedad_Enfermedad_Ordenado: dependiendo la gravedad con la que ingresa el paciente puede o no quedarse\n",
    "- Condicion_Salud_Ordenado: una persona con enfermedades cardíacas es más propensa a quedarse que una con asma por ejemplo, así que puede influir\n",
    "- Con_Seguro: factor que considero importante, pues brinda al paciente mayor seguridad a quedarse puesto que el seguro puede cubrirlo\n",
    "- Sin_Seguro: factor que considero importante, pues brinda al paciente poca seguridad a quedarse puesto que no posee seguro "
   ]
  },
  {
   "cell_type": "code",
   "execution_count": 76,
   "metadata": {},
   "outputs": [],
   "source": [
    "columnas_aportan = ['Hab_Disponibles', 'Staff_Disponible', 'Rango_Etario_Ordenado', 'Female', 'Male', 'Other', 'Emergency', 'Trauma', 'Urgent', 'Gravedad_Enfermedad_Ordenado', 'Condicion_Salud_Ordenado', 'Con_Seguro', 'Sin_Seguro']"
   ]
  },
  {
   "cell_type": "code",
   "execution_count": 78,
   "metadata": {},
   "outputs": [
    {
     "name": "stdout",
     "output_type": "stream",
     "text": [
      "columna: Hab_Disponibles    ==========>   indice:__0\n",
      "columna: Staff_Disponible    ==========>   indice:__4\n",
      "columna: Rango_Etario_Ordenado    ==========>   indice:__5\n",
      "columna: Female    ==========>   indice:__6\n",
      "columna: Male    ==========>   indice:__7\n",
      "columna: Other    ==========>   indice:__8\n",
      "columna: Emergency    ==========>   indice:__9\n",
      "columna: Trauma    ==========>   indice:__10\n",
      "columna: Urgent    ==========>   indice:__11\n",
      "columna: Gravedad_Enfermedad_Ordenado    ==========>   indice:__12\n",
      "columna: Condicion_Salud_Ordenado    ==========>   indice:__13\n",
      "columna: Con_Seguro    ==========>   indice:__15\n",
      "columna: Sin_Seguro    ==========>   indice:__16\n"
     ]
    }
   ],
   "source": [
    "#hago esta iteración para conocer el índice de cada columna que usaré\n",
    "columnas = data2.columns.to_list()\n",
    "for i in columnas_aportan:\n",
    "    print(f'columna: {i}', f'indice:__{columnas.index(i)}', sep='    ==========>   ')"
   ]
  },
  {
   "cell_type": "code",
   "execution_count": 80,
   "metadata": {},
   "outputs": [],
   "source": [
    "#ya con el índice conocido arriba, procedo a pasárselo a mi Variable Independiente\n",
    "\n",
    "X = data2.iloc[:,[0, 4, 5, 6, 7, 8, 9, 10, 11, 12, 13, 15, 16]].values"
   ]
  },
  {
   "cell_type": "code",
   "execution_count": 83,
   "metadata": {},
   "outputs": [],
   "source": [
    "#variable dependiente\n",
    "\n",
    "y = data2.iloc[:, 19].values"
   ]
  },
  {
   "attachments": {},
   "cell_type": "markdown",
   "metadata": {},
   "source": [
    "#### **Separamos los datos para entrenamiento y testeo.**"
   ]
  },
  {
   "cell_type": "code",
   "execution_count": 84,
   "metadata": {},
   "outputs": [],
   "source": [
    "from sklearn.model_selection import train_test_split"
   ]
  },
  {
   "cell_type": "code",
   "execution_count": 85,
   "metadata": {},
   "outputs": [],
   "source": [
    "#usaré un 25% para testeo\n",
    "\n",
    "Xtrain, Xtest, ytrain, ytest = train_test_split(X, y, test_size=0.25, random_state=30)"
   ]
  },
  {
   "attachments": {},
   "cell_type": "markdown",
   "metadata": {},
   "source": [
    "#### **Escalado de los datos tanto de entranamiento como de testeo.**"
   ]
  },
  {
   "cell_type": "code",
   "execution_count": 86,
   "metadata": {},
   "outputs": [],
   "source": [
    "from sklearn.preprocessing import StandardScaler"
   ]
  },
  {
   "cell_type": "code",
   "execution_count": 87,
   "metadata": {},
   "outputs": [],
   "source": [
    "scaler = StandardScaler()"
   ]
  },
  {
   "cell_type": "code",
   "execution_count": 88,
   "metadata": {},
   "outputs": [],
   "source": [
    "Xtrain = scaler.fit_transform(Xtrain)"
   ]
  },
  {
   "cell_type": "code",
   "execution_count": 89,
   "metadata": {},
   "outputs": [],
   "source": [
    "Xtest = scaler.transform(Xtest)"
   ]
  },
  {
   "attachments": {},
   "cell_type": "markdown",
   "metadata": {},
   "source": [
    "#### **Utilizamos el modelo de Regresión Logística.**\n",
    "_`Motivo:`_\n",
    "\n",
    "Se utiliza para problemas de ***_Clasificación_***. Es un modelo lineal que se utiliza para clasificación binaria.\n",
    "\n",
    "Estos modelos se emplean mucho para test de enfermedades, filtros de correo spam, test de embarazo, etc.\n",
    "\n",
    "Clasifica separando por una linea. Con ese umbral, determina si una instancia es 0 o 1 -es decir, si pertenece a una categoría o a la otra-.\n",
    "\n",
    "**`Y para nuestro propósito nos viene bien, ya que nuestro Target tendrá solo dos valores (1 y 0) los cuales nos indicarán si la Estadía es prolongada o No.`**"
   ]
  },
  {
   "cell_type": "code",
   "execution_count": 90,
   "metadata": {},
   "outputs": [],
   "source": [
    "#importo mi modelo de Regresión logística:\n",
    "\n",
    "from sklearn.linear_model import LogisticRegression"
   ]
  },
  {
   "cell_type": "code",
   "execution_count": 91,
   "metadata": {},
   "outputs": [],
   "source": [
    "clasificador = LogisticRegression(random_state=30)"
   ]
  },
  {
   "attachments": {},
   "cell_type": "markdown",
   "metadata": {},
   "source": [
    "- #### Entreno mi modelo"
   ]
  },
  {
   "cell_type": "code",
   "execution_count": 92,
   "metadata": {},
   "outputs": [
    {
     "data": {
      "text/html": [
       "<style>#sk-container-id-1 {color: black;background-color: white;}#sk-container-id-1 pre{padding: 0;}#sk-container-id-1 div.sk-toggleable {background-color: white;}#sk-container-id-1 label.sk-toggleable__label {cursor: pointer;display: block;width: 100%;margin-bottom: 0;padding: 0.3em;box-sizing: border-box;text-align: center;}#sk-container-id-1 label.sk-toggleable__label-arrow:before {content: \"▸\";float: left;margin-right: 0.25em;color: #696969;}#sk-container-id-1 label.sk-toggleable__label-arrow:hover:before {color: black;}#sk-container-id-1 div.sk-estimator:hover label.sk-toggleable__label-arrow:before {color: black;}#sk-container-id-1 div.sk-toggleable__content {max-height: 0;max-width: 0;overflow: hidden;text-align: left;background-color: #f0f8ff;}#sk-container-id-1 div.sk-toggleable__content pre {margin: 0.2em;color: black;border-radius: 0.25em;background-color: #f0f8ff;}#sk-container-id-1 input.sk-toggleable__control:checked~div.sk-toggleable__content {max-height: 200px;max-width: 100%;overflow: auto;}#sk-container-id-1 input.sk-toggleable__control:checked~label.sk-toggleable__label-arrow:before {content: \"▾\";}#sk-container-id-1 div.sk-estimator input.sk-toggleable__control:checked~label.sk-toggleable__label {background-color: #d4ebff;}#sk-container-id-1 div.sk-label input.sk-toggleable__control:checked~label.sk-toggleable__label {background-color: #d4ebff;}#sk-container-id-1 input.sk-hidden--visually {border: 0;clip: rect(1px 1px 1px 1px);clip: rect(1px, 1px, 1px, 1px);height: 1px;margin: -1px;overflow: hidden;padding: 0;position: absolute;width: 1px;}#sk-container-id-1 div.sk-estimator {font-family: monospace;background-color: #f0f8ff;border: 1px dotted black;border-radius: 0.25em;box-sizing: border-box;margin-bottom: 0.5em;}#sk-container-id-1 div.sk-estimator:hover {background-color: #d4ebff;}#sk-container-id-1 div.sk-parallel-item::after {content: \"\";width: 100%;border-bottom: 1px solid gray;flex-grow: 1;}#sk-container-id-1 div.sk-label:hover label.sk-toggleable__label {background-color: #d4ebff;}#sk-container-id-1 div.sk-serial::before {content: \"\";position: absolute;border-left: 1px solid gray;box-sizing: border-box;top: 0;bottom: 0;left: 50%;z-index: 0;}#sk-container-id-1 div.sk-serial {display: flex;flex-direction: column;align-items: center;background-color: white;padding-right: 0.2em;padding-left: 0.2em;position: relative;}#sk-container-id-1 div.sk-item {position: relative;z-index: 1;}#sk-container-id-1 div.sk-parallel {display: flex;align-items: stretch;justify-content: center;background-color: white;position: relative;}#sk-container-id-1 div.sk-item::before, #sk-container-id-1 div.sk-parallel-item::before {content: \"\";position: absolute;border-left: 1px solid gray;box-sizing: border-box;top: 0;bottom: 0;left: 50%;z-index: -1;}#sk-container-id-1 div.sk-parallel-item {display: flex;flex-direction: column;z-index: 1;position: relative;background-color: white;}#sk-container-id-1 div.sk-parallel-item:first-child::after {align-self: flex-end;width: 50%;}#sk-container-id-1 div.sk-parallel-item:last-child::after {align-self: flex-start;width: 50%;}#sk-container-id-1 div.sk-parallel-item:only-child::after {width: 0;}#sk-container-id-1 div.sk-dashed-wrapped {border: 1px dashed gray;margin: 0 0.4em 0.5em 0.4em;box-sizing: border-box;padding-bottom: 0.4em;background-color: white;}#sk-container-id-1 div.sk-label label {font-family: monospace;font-weight: bold;display: inline-block;line-height: 1.2em;}#sk-container-id-1 div.sk-label-container {text-align: center;}#sk-container-id-1 div.sk-container {/* jupyter's `normalize.less` sets `[hidden] { display: none; }` but bootstrap.min.css set `[hidden] { display: none !important; }` so we also need the `!important` here to be able to override the default hidden behavior on the sphinx rendered scikit-learn.org. See: https://github.com/scikit-learn/scikit-learn/issues/21755 */display: inline-block !important;position: relative;}#sk-container-id-1 div.sk-text-repr-fallback {display: none;}</style><div id=\"sk-container-id-1\" class=\"sk-top-container\"><div class=\"sk-text-repr-fallback\"><pre>LogisticRegression(random_state=30)</pre><b>In a Jupyter environment, please rerun this cell to show the HTML representation or trust the notebook. <br />On GitHub, the HTML representation is unable to render, please try loading this page with nbviewer.org.</b></div><div class=\"sk-container\" hidden><div class=\"sk-item\"><div class=\"sk-estimator sk-toggleable\"><input class=\"sk-toggleable__control sk-hidden--visually\" id=\"sk-estimator-id-1\" type=\"checkbox\" checked><label for=\"sk-estimator-id-1\" class=\"sk-toggleable__label sk-toggleable__label-arrow\">LogisticRegression</label><div class=\"sk-toggleable__content\"><pre>LogisticRegression(random_state=30)</pre></div></div></div></div></div>"
      ],
      "text/plain": [
       "LogisticRegression(random_state=30)"
      ]
     },
     "execution_count": 92,
     "metadata": {},
     "output_type": "execute_result"
    }
   ],
   "source": [
    "clasificador.fit(Xtrain, ytrain)"
   ]
  },
  {
   "attachments": {},
   "cell_type": "markdown",
   "metadata": {},
   "source": [
    "- #### Predecimos"
   ]
  },
  {
   "cell_type": "code",
   "execution_count": 93,
   "metadata": {},
   "outputs": [],
   "source": [
    "ypred = clasificador.predict(Xtest)"
   ]
  },
  {
   "attachments": {},
   "cell_type": "markdown",
   "metadata": {},
   "source": [
    "- #### Testeo el modelo"
   ]
  },
  {
   "cell_type": "code",
   "execution_count": 94,
   "metadata": {},
   "outputs": [],
   "source": [
    "#importo mi matriz de confusion, me dará un pantallazo de mis Falsos Positivos así como de mis Falsos Negativos, Verdaderos Positivos y Verdaderos Negativos:\n",
    "\n",
    "from sklearn.metrics import confusion_matrix"
   ]
  },
  {
   "cell_type": "code",
   "execution_count": 95,
   "metadata": {},
   "outputs": [],
   "source": [
    "confusion_matrix = confusion_matrix(ytest, ypred)"
   ]
  },
  {
   "cell_type": "code",
   "execution_count": 96,
   "metadata": {},
   "outputs": [
    {
     "data": {
      "text/plain": [
       "array([[ 6486, 32098],\n",
       "       [ 8518, 55398]], dtype=int64)"
      ]
     },
     "execution_count": 96,
     "metadata": {},
     "output_type": "execute_result"
    }
   ],
   "source": [
    "confusion_matrix"
   ]
  },
  {
   "attachments": {},
   "cell_type": "markdown",
   "metadata": {},
   "source": [
    "- #### importo las métricas que usaré para calificar mi modelo y ver cómo anda"
   ]
  },
  {
   "cell_type": "code",
   "execution_count": 97,
   "metadata": {},
   "outputs": [],
   "source": [
    "from sklearn.metrics import accuracy_score, recall_score"
   ]
  },
  {
   "cell_type": "code",
   "execution_count": 98,
   "metadata": {},
   "outputs": [
    {
     "name": "stdout",
     "output_type": "stream",
     "text": [
      "accuracy del modelo: 0.6037463414634147\n"
     ]
    }
   ],
   "source": [
    "print('accuracy del modelo:', accuracy_score(ytest, ypred))"
   ]
  },
  {
   "cell_type": "code",
   "execution_count": 99,
   "metadata": {},
   "outputs": [
    {
     "name": "stdout",
     "output_type": "stream",
     "text": [
      "recall de nuestro modelo: 0.8667313348770261\n"
     ]
    }
   ],
   "source": [
    "print('recall de nuestro modelo:', recall_score(ytest, ypred))"
   ]
  },
  {
   "attachments": {},
   "cell_type": "markdown",
   "metadata": {},
   "source": [
    "# `Ahora procedo a hacer el mismo procedimiento de EDA y preprocesamiento pero con mi archivo hospitalizaciones_test.csv`\n",
    "![green-divider](https://user-images.githubusercontent.com/7065401/52071924-c003ad80-2562-11e9-8297-1c6595f8a7ff.png)"
   ]
  },
  {
   "attachments": {},
   "cell_type": "markdown",
   "metadata": {},
   "source": [
    "**Nota:** Este proceso será menos comentado puesto que es básicamente lo mismo que se hizo al inicio"
   ]
  },
  {
   "attachments": {},
   "cell_type": "markdown",
   "metadata": {},
   "source": [
    "- Ya con el model entrenado y testeado.\n",
    "- Predigo los ypred del archivo 'hospitalizaciones_test.csv'\n",
    "- Hago el proceso de limpieza y transformación"
   ]
  },
  {
   "cell_type": "code",
   "execution_count": 100,
   "metadata": {},
   "outputs": [],
   "source": [
    "data_test = pd.read_csv('./Datasets/hospitalizaciones_test.csv')"
   ]
  },
  {
   "cell_type": "code",
   "execution_count": 101,
   "metadata": {},
   "outputs": [],
   "source": [
    "#nuevo nombre de las columnas para data_test (sin incluir estadia):\n",
    "\n",
    "New_cols = ['Hab_Disponibles', 'Departamento', 'Codigo_Hab', 'Nombre_Medico', 'Staff_Disponible', 'IdPaciente', 'Rango_Etario',\n",
    "            'Genero', 'Tipo_Ingreso', 'Gravedad_Enfermedad', 'Condicion_Salud', 'Visitantes', 'Seguro', 'Deposito_Ingreso']\n"
   ]
  },
  {
   "cell_type": "code",
   "execution_count": 102,
   "metadata": {},
   "outputs": [],
   "source": [
    "#Asigno a mi dataframe los nuevos nombres de columna\n",
    "\n",
    "data_test.columns = New_cols"
   ]
  },
  {
   "cell_type": "code",
   "execution_count": 103,
   "metadata": {},
   "outputs": [
    {
     "data": {
      "text/html": [
       "<div>\n",
       "<style scoped>\n",
       "    .dataframe tbody tr th:only-of-type {\n",
       "        vertical-align: middle;\n",
       "    }\n",
       "\n",
       "    .dataframe tbody tr th {\n",
       "        vertical-align: top;\n",
       "    }\n",
       "\n",
       "    .dataframe thead th {\n",
       "        text-align: right;\n",
       "    }\n",
       "</style>\n",
       "<table border=\"1\" class=\"dataframe\">\n",
       "  <thead>\n",
       "    <tr style=\"text-align: right;\">\n",
       "      <th></th>\n",
       "      <th>Hab_Disponibles</th>\n",
       "      <th>Departamento</th>\n",
       "      <th>Codigo_Hab</th>\n",
       "      <th>Nombre_Medico</th>\n",
       "      <th>Staff_Disponible</th>\n",
       "      <th>IdPaciente</th>\n",
       "      <th>Rango_Etario</th>\n",
       "      <th>Genero</th>\n",
       "      <th>Tipo_Ingreso</th>\n",
       "      <th>Gravedad_Enfermedad</th>\n",
       "      <th>Condicion_Salud</th>\n",
       "      <th>Visitantes</th>\n",
       "      <th>Seguro</th>\n",
       "      <th>Deposito_Ingreso</th>\n",
       "    </tr>\n",
       "  </thead>\n",
       "  <tbody>\n",
       "    <tr>\n",
       "      <th>0</th>\n",
       "      <td>3</td>\n",
       "      <td>gynecology</td>\n",
       "      <td>F</td>\n",
       "      <td>Dr Olivia</td>\n",
       "      <td>10</td>\n",
       "      <td>2858</td>\n",
       "      <td>21-30</td>\n",
       "      <td>Female</td>\n",
       "      <td>Trauma</td>\n",
       "      <td>Moderate</td>\n",
       "      <td>Other</td>\n",
       "      <td>2</td>\n",
       "      <td>No</td>\n",
       "      <td>4749.640225</td>\n",
       "    </tr>\n",
       "    <tr>\n",
       "      <th>1</th>\n",
       "      <td>2</td>\n",
       "      <td>TB &amp; Chest disease</td>\n",
       "      <td>E</td>\n",
       "      <td>Dr John</td>\n",
       "      <td>4</td>\n",
       "      <td>65657</td>\n",
       "      <td>51-60</td>\n",
       "      <td>Female</td>\n",
       "      <td>Trauma</td>\n",
       "      <td>Moderate</td>\n",
       "      <td>Asthama</td>\n",
       "      <td>2</td>\n",
       "      <td>Yes</td>\n",
       "      <td>4122.261324</td>\n",
       "    </tr>\n",
       "    <tr>\n",
       "      <th>2</th>\n",
       "      <td>2</td>\n",
       "      <td>radiotherapy</td>\n",
       "      <td>E</td>\n",
       "      <td>Dr John</td>\n",
       "      <td>7</td>\n",
       "      <td>45598</td>\n",
       "      <td>51-60</td>\n",
       "      <td>Other</td>\n",
       "      <td>Trauma</td>\n",
       "      <td>Moderate</td>\n",
       "      <td>None</td>\n",
       "      <td>3</td>\n",
       "      <td>No</td>\n",
       "      <td>5459.067882</td>\n",
       "    </tr>\n",
       "    <tr>\n",
       "      <th>3</th>\n",
       "      <td>2</td>\n",
       "      <td>gynecology</td>\n",
       "      <td>F</td>\n",
       "      <td>Dr Olivia</td>\n",
       "      <td>1</td>\n",
       "      <td>31132</td>\n",
       "      <td>21-30</td>\n",
       "      <td>Female</td>\n",
       "      <td>Trauma</td>\n",
       "      <td>Moderate</td>\n",
       "      <td>None</td>\n",
       "      <td>2</td>\n",
       "      <td>Yes</td>\n",
       "      <td>3987.033318</td>\n",
       "    </tr>\n",
       "    <tr>\n",
       "      <th>4</th>\n",
       "      <td>2</td>\n",
       "      <td>anesthesia</td>\n",
       "      <td>A</td>\n",
       "      <td>Dr John</td>\n",
       "      <td>7</td>\n",
       "      <td>125021</td>\n",
       "      <td>51-60</td>\n",
       "      <td>Female</td>\n",
       "      <td>Trauma</td>\n",
       "      <td>Extreme</td>\n",
       "      <td>Diabetes</td>\n",
       "      <td>2</td>\n",
       "      <td>No</td>\n",
       "      <td>4770.789695</td>\n",
       "    </tr>\n",
       "  </tbody>\n",
       "</table>\n",
       "</div>"
      ],
      "text/plain": [
       "   Hab_Disponibles        Departamento Codigo_Hab Nombre_Medico  \\\n",
       "0                3          gynecology          F     Dr Olivia   \n",
       "1                2  TB & Chest disease          E       Dr John   \n",
       "2                2        radiotherapy          E       Dr John   \n",
       "3                2          gynecology          F     Dr Olivia   \n",
       "4                2          anesthesia          A       Dr John   \n",
       "\n",
       "   Staff_Disponible  IdPaciente Rango_Etario  Genero Tipo_Ingreso  \\\n",
       "0                10        2858        21-30  Female       Trauma   \n",
       "1                 4       65657        51-60  Female       Trauma   \n",
       "2                 7       45598        51-60   Other       Trauma   \n",
       "3                 1       31132        21-30  Female       Trauma   \n",
       "4                 7      125021        51-60  Female       Trauma   \n",
       "\n",
       "  Gravedad_Enfermedad Condicion_Salud  Visitantes Seguro  Deposito_Ingreso  \n",
       "0            Moderate           Other           2     No       4749.640225  \n",
       "1            Moderate         Asthama           2    Yes       4122.261324  \n",
       "2            Moderate            None           3     No       5459.067882  \n",
       "3            Moderate            None           2    Yes       3987.033318  \n",
       "4             Extreme        Diabetes           2     No       4770.789695  "
      ]
     },
     "execution_count": 103,
     "metadata": {},
     "output_type": "execute_result"
    }
   ],
   "source": [
    "data_test.head()"
   ]
  },
  {
   "cell_type": "code",
   "execution_count": 104,
   "metadata": {},
   "outputs": [],
   "source": [
    "#importo las clases necesarias para el encoding del data_test\n",
    "\n",
    "from sklearn.preprocessing import OneHotEncoder, OrdinalEncoder"
   ]
  },
  {
   "cell_type": "code",
   "execution_count": 105,
   "metadata": {},
   "outputs": [],
   "source": [
    "#Codifico la columna 'Genero'\n",
    "\n",
    "data_encoded = data_test[['Genero']]\n",
    "ohe = OneHotEncoder(handle_unknown='ignore')\n",
    "data_encoded = pd.DataFrame(ohe.fit_transform(data_encoded).toarray(), columns=['Female', 'Male', 'Other'])"
   ]
  },
  {
   "cell_type": "code",
   "execution_count": 106,
   "metadata": {},
   "outputs": [],
   "source": [
    "data_test = pd.concat([data_test, data_encoded], axis=1)"
   ]
  },
  {
   "cell_type": "code",
   "execution_count": 107,
   "metadata": {},
   "outputs": [],
   "source": [
    "#codifico la columna 'Tipo_Ingreso'\n",
    "\n",
    "data_encoded = data_test[['Tipo_Ingreso']]\n",
    "ohe = OneHotEncoder(handle_unknown='ignore')\n",
    "data_encoded = pd.DataFrame(ohe.fit_transform(data_encoded).toarray(), columns=['Emergency', 'Trauma', 'Urgent'])"
   ]
  },
  {
   "cell_type": "code",
   "execution_count": 108,
   "metadata": {},
   "outputs": [],
   "source": [
    "#añado las nuevas columnas a mi DataFrame\n",
    "data_test = pd.concat([data_test, data_encoded], axis=1)"
   ]
  },
  {
   "cell_type": "code",
   "execution_count": 109,
   "metadata": {},
   "outputs": [],
   "source": [
    "#Codifico la columna 'Seguro'\n",
    "\n",
    "data_encoded = data_test[['Seguro']]\n",
    "ohe = OneHotEncoder(handle_unknown='ignore')\n",
    "data_encoded = pd.DataFrame(ohe.fit_transform(data_encoded).toarray(), columns=['Sin_Seguro', 'Con_Seguro'])\n"
   ]
  },
  {
   "cell_type": "code",
   "execution_count": 110,
   "metadata": {},
   "outputs": [],
   "source": [
    "data_test = pd.concat([data_test, data_encoded], axis=1)"
   ]
  },
  {
   "cell_type": "code",
   "execution_count": 111,
   "metadata": {},
   "outputs": [],
   "source": [
    "#creo mi lista de categorías en el orden que quiero pasárselo a mi instancia de coding\n",
    "\n",
    "gravedad = ['Extreme', 'Moderate', 'Minor']"
   ]
  },
  {
   "cell_type": "code",
   "execution_count": 112,
   "metadata": {},
   "outputs": [],
   "source": [
    "#creo mi instancia\n",
    "\n",
    "enc = OrdinalEncoder(categories=[gravedad])"
   ]
  },
  {
   "cell_type": "code",
   "execution_count": 113,
   "metadata": {},
   "outputs": [],
   "source": [
    "#Creo una nueva columna con el encoding, basado en la columna 'Gravedad_Enfermedad' de mi DataFrame.\n",
    "\n",
    "data_test['Gravedad_Enfermedad_Ordenado'] = enc.fit_transform(data_test[['Gravedad_Enfermedad']])"
   ]
  },
  {
   "cell_type": "code",
   "execution_count": 114,
   "metadata": {},
   "outputs": [],
   "source": [
    "#creo mi lista de categorías en el orden que quiero pasárselo a mi instancia de coding\n",
    "\n",
    "condicion_salud = ['Heart disease', 'Diabetes', 'High Blood Pressure', 'Asthama', 'Other', 'None']"
   ]
  },
  {
   "cell_type": "code",
   "execution_count": 115,
   "metadata": {},
   "outputs": [],
   "source": [
    "#creo mi instancia\n",
    "\n",
    "enc = OrdinalEncoder(categories=[condicion_salud])"
   ]
  },
  {
   "cell_type": "code",
   "execution_count": 116,
   "metadata": {},
   "outputs": [],
   "source": [
    "#Creo una nueva columna con el encoding, basado en la columna 'Condicion_Salud' de mi DataFrame.\n",
    "\n",
    "data_test['Condicion_Salud_Ordenado'] = enc.fit_transform(data_test[['Condicion_Salud']])"
   ]
  },
  {
   "cell_type": "code",
   "execution_count": 117,
   "metadata": {},
   "outputs": [],
   "source": [
    "#creo mi lista de categorías en el orden que necesito\n",
    "\n",
    "Rango_Etario = ['0-10', '11-20', '21-30', '31-40', '41-50', '51-60', '61-70', '71-80', '81-90', '91-100']"
   ]
  },
  {
   "cell_type": "code",
   "execution_count": 118,
   "metadata": {},
   "outputs": [],
   "source": [
    "enc = OrdinalEncoder(categories=[Rango_Etario])"
   ]
  },
  {
   "cell_type": "code",
   "execution_count": 119,
   "metadata": {},
   "outputs": [],
   "source": [
    "data_test['Rango_Etario_Ordenado'] = enc.fit_transform(data_test[['Rango_Etario']])"
   ]
  },
  {
   "cell_type": "code",
   "execution_count": 120,
   "metadata": {},
   "outputs": [],
   "source": [
    "#creo mi nuevo DataFrame de testeo ya con las columnas que necesito.\n",
    "\n",
    "data_test2 = data_test[['Hab_Disponibles', 'Departamento', 'Codigo_Hab', 'Nombre_Medico', 'Staff_Disponible', 'Rango_Etario_Ordenado', 'Female', 'Male',\n",
    "             'Other', 'Emergency', 'Trauma', 'Urgent', 'Gravedad_Enfermedad_Ordenado', 'Condicion_Salud_Ordenado', 'Visitantes', 'Con_Seguro', 'Sin_Seguro', 'Deposito_Ingreso']]"
   ]
  },
  {
   "attachments": {},
   "cell_type": "markdown",
   "metadata": {},
   "source": [
    "- Creo un nuevo archivo de hospitalizaciones_test ya con las columnas codificadas para futuras predicciones"
   ]
  },
  {
   "cell_type": "code",
   "execution_count": 121,
   "metadata": {},
   "outputs": [],
   "source": [
    "data_test2.to_csv('./Datasets/hospitalizaciones_codificado_test.csv')"
   ]
  },
  {
   "cell_type": "code",
   "execution_count": 122,
   "metadata": {},
   "outputs": [
    {
     "name": "stdout",
     "output_type": "stream",
     "text": [
      "<class 'pandas.core.frame.DataFrame'>\n",
      "RangeIndex: 90000 entries, 0 to 89999\n",
      "Data columns (total 18 columns):\n",
      " #   Column                        Non-Null Count  Dtype  \n",
      "---  ------                        --------------  -----  \n",
      " 0   Hab_Disponibles               90000 non-null  int64  \n",
      " 1   Departamento                  90000 non-null  object \n",
      " 2   Codigo_Hab                    90000 non-null  object \n",
      " 3   Nombre_Medico                 90000 non-null  object \n",
      " 4   Staff_Disponible              90000 non-null  int64  \n",
      " 5   Rango_Etario_Ordenado         90000 non-null  float64\n",
      " 6   Female                        90000 non-null  float64\n",
      " 7   Male                          90000 non-null  float64\n",
      " 8   Other                         90000 non-null  float64\n",
      " 9   Emergency                     90000 non-null  float64\n",
      " 10  Trauma                        90000 non-null  float64\n",
      " 11  Urgent                        90000 non-null  float64\n",
      " 12  Gravedad_Enfermedad_Ordenado  90000 non-null  float64\n",
      " 13  Condicion_Salud_Ordenado      90000 non-null  float64\n",
      " 14  Visitantes                    90000 non-null  int64  \n",
      " 15  Con_Seguro                    90000 non-null  float64\n",
      " 16  Sin_Seguro                    90000 non-null  float64\n",
      " 17  Deposito_Ingreso              90000 non-null  float64\n",
      "dtypes: float64(12), int64(3), object(3)\n",
      "memory usage: 12.4+ MB\n"
     ]
    }
   ],
   "source": [
    "data_test2.info()"
   ]
  },
  {
   "cell_type": "code",
   "execution_count": 124,
   "metadata": {},
   "outputs": [],
   "source": [
    "X_test = data_test2.iloc[:,[0, 4, 5, 6, 7, 8, 9, 10, 11, 12, 13, 15, 16]].values"
   ]
  },
  {
   "cell_type": "code",
   "execution_count": 125,
   "metadata": {},
   "outputs": [],
   "source": [
    "from sklearn.preprocessing import StandardScaler\n",
    "scaler = StandardScaler()"
   ]
  },
  {
   "cell_type": "code",
   "execution_count": 126,
   "metadata": {},
   "outputs": [],
   "source": [
    "X_test = scaler.fit_transform(X_test)"
   ]
  },
  {
   "attachments": {},
   "cell_type": "markdown",
   "metadata": {},
   "source": [
    "- Utilizo mi clasificador que ya está entrenado, para hacer las predicciones que serán objeto de evaluación y agregada al archivo que llevará como nombre mi usuario de GitHub"
   ]
  },
  {
   "cell_type": "code",
   "execution_count": 127,
   "metadata": {},
   "outputs": [],
   "source": [
    "#este clasificador es el que ya está entrenado\n",
    "\n",
    "ypred2 = clasificador.predict(X_test)"
   ]
  },
  {
   "cell_type": "code",
   "execution_count": 128,
   "metadata": {},
   "outputs": [
    {
     "data": {
      "text/plain": [
       "(90000,)"
      ]
     },
     "execution_count": 128,
     "metadata": {},
     "output_type": "execute_result"
    }
   ],
   "source": [
    "ypred2.shape"
   ]
  },
  {
   "attachments": {},
   "cell_type": "markdown",
   "metadata": {},
   "source": [
    "- Transformo mi ypred a un dataframe"
   ]
  },
  {
   "cell_type": "code",
   "execution_count": 129,
   "metadata": {},
   "outputs": [],
   "source": [
    "ypred_df = pd.DataFrame(ypred2, columns=['ypred'])"
   ]
  },
  {
   "cell_type": "code",
   "execution_count": 130,
   "metadata": {},
   "outputs": [
    {
     "data": {
      "text/html": [
       "<div>\n",
       "<style scoped>\n",
       "    .dataframe tbody tr th:only-of-type {\n",
       "        vertical-align: middle;\n",
       "    }\n",
       "\n",
       "    .dataframe tbody tr th {\n",
       "        vertical-align: top;\n",
       "    }\n",
       "\n",
       "    .dataframe thead th {\n",
       "        text-align: right;\n",
       "    }\n",
       "</style>\n",
       "<table border=\"1\" class=\"dataframe\">\n",
       "  <thead>\n",
       "    <tr style=\"text-align: right;\">\n",
       "      <th></th>\n",
       "      <th>ypred</th>\n",
       "    </tr>\n",
       "  </thead>\n",
       "  <tbody>\n",
       "    <tr>\n",
       "      <th>0</th>\n",
       "      <td>1</td>\n",
       "    </tr>\n",
       "    <tr>\n",
       "      <th>1</th>\n",
       "      <td>1</td>\n",
       "    </tr>\n",
       "    <tr>\n",
       "      <th>2</th>\n",
       "      <td>1</td>\n",
       "    </tr>\n",
       "    <tr>\n",
       "      <th>3</th>\n",
       "      <td>1</td>\n",
       "    </tr>\n",
       "    <tr>\n",
       "      <th>4</th>\n",
       "      <td>1</td>\n",
       "    </tr>\n",
       "  </tbody>\n",
       "</table>\n",
       "</div>"
      ],
      "text/plain": [
       "   ypred\n",
       "0      1\n",
       "1      1\n",
       "2      1\n",
       "3      1\n",
       "4      1"
      ]
     },
     "execution_count": 130,
     "metadata": {},
     "output_type": "execute_result"
    }
   ],
   "source": [
    "ypred_df.head()"
   ]
  },
  {
   "attachments": {},
   "cell_type": "markdown",
   "metadata": {},
   "source": [
    "- Transformo mi dataframe a un archivo csv"
   ]
  },
  {
   "cell_type": "code",
   "execution_count": 131,
   "metadata": {},
   "outputs": [],
   "source": [
    "ypred_df.to_csv('willi-cutzal.csv', index=False)"
   ]
  },
  {
   "cell_type": "code",
   "execution_count": 132,
   "metadata": {},
   "outputs": [
    {
     "data": {
      "text/html": [
       "<div>\n",
       "<style scoped>\n",
       "    .dataframe tbody tr th:only-of-type {\n",
       "        vertical-align: middle;\n",
       "    }\n",
       "\n",
       "    .dataframe tbody tr th {\n",
       "        vertical-align: top;\n",
       "    }\n",
       "\n",
       "    .dataframe thead th {\n",
       "        text-align: right;\n",
       "    }\n",
       "</style>\n",
       "<table border=\"1\" class=\"dataframe\">\n",
       "  <thead>\n",
       "    <tr style=\"text-align: right;\">\n",
       "      <th></th>\n",
       "      <th>ypred</th>\n",
       "    </tr>\n",
       "  </thead>\n",
       "  <tbody>\n",
       "    <tr>\n",
       "      <th>0</th>\n",
       "      <td>1</td>\n",
       "    </tr>\n",
       "    <tr>\n",
       "      <th>1</th>\n",
       "      <td>1</td>\n",
       "    </tr>\n",
       "    <tr>\n",
       "      <th>2</th>\n",
       "      <td>1</td>\n",
       "    </tr>\n",
       "    <tr>\n",
       "      <th>3</th>\n",
       "      <td>1</td>\n",
       "    </tr>\n",
       "    <tr>\n",
       "      <th>4</th>\n",
       "      <td>1</td>\n",
       "    </tr>\n",
       "  </tbody>\n",
       "</table>\n",
       "</div>"
      ],
      "text/plain": [
       "   ypred\n",
       "0      1\n",
       "1      1\n",
       "2      1\n",
       "3      1\n",
       "4      1"
      ]
     },
     "execution_count": 132,
     "metadata": {},
     "output_type": "execute_result"
    }
   ],
   "source": [
    "df = pd.read_csv('willi-cutzal.csv')\n",
    "df.head()"
   ]
  },
  {
   "cell_type": "code",
   "execution_count": null,
   "metadata": {},
   "outputs": [],
   "source": []
  }
 ],
 "metadata": {
  "kernelspec": {
   "display_name": "Python 3",
   "language": "python",
   "name": "python3"
  },
  "language_info": {
   "codemirror_mode": {
    "name": "ipython",
    "version": 3
   },
   "file_extension": ".py",
   "mimetype": "text/x-python",
   "name": "python",
   "nbconvert_exporter": "python",
   "pygments_lexer": "ipython3",
   "version": "3.9.13"
  },
  "orig_nbformat": 4,
  "vscode": {
   "interpreter": {
    "hash": "bbd23eb0e1ebd2d8401d02edbdb8ba86277cb878fa70090f938b655ff3a476b7"
   }
  }
 },
 "nbformat": 4,
 "nbformat_minor": 2
}
